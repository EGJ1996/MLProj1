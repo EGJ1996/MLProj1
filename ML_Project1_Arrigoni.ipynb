{
 "cells": [
  {
   "cell_type": "markdown",
   "metadata": {},
   "source": [
    "# Machine learning Project 1 : Higgs Boson"
   ]
  },
  {
   "cell_type": "code",
   "execution_count": 1,
   "metadata": {},
   "outputs": [],
   "source": [
    "# Useful starting lines\n",
    "%matplotlib inline\n",
    "import numpy as np\n",
    "import matplotlib.pyplot as plt\n",
    "#import plotly.plotly as py\n",
    "#import plotly.graph_objs as go\n",
    "\n",
    "%load_ext autoreload\n",
    "%autoreload 2"
   ]
  },
  {
   "cell_type": "code",
   "execution_count": 3,
   "metadata": {},
   "outputs": [],
   "source": [
    "from proj1_helpers import *\n",
    "from implementations import *\n",
    "\n",
    "data_path = \"datasets/train.csv\"\n",
    "yb, input_data, ids = load_csv_data(data_path, sub_sample=True)"
   ]
  },
  {
   "cell_type": "markdown",
   "metadata": {},
   "source": [
    "### Clean data \n",
    "We set to 0 the invalid values and standardize the data by columns in order to deal with dimensionless variables that span more or less the same range"
   ]
  },
  {
   "cell_type": "code",
   "execution_count": 4,
   "metadata": {},
   "outputs": [],
   "source": [
    "cleansubx = input_data\n",
    "cleansubx[np.where(cleansubx == -999)] = 0\n",
    "means_by_columns = np.mean(cleansubx, axis=0)\n",
    "\n",
    "for i in range(30):\n",
    "    input_data[:,np.where(input_data[:,i]==-999)] = means_by_columns[i]\n",
    "    \n",
    "input_data = standardize(input_data)\n",
    "rows, cols = input_data.shape[0], input_data.shape[1]"
   ]
  },
  {
   "cell_type": "code",
   "execution_count": 39,
   "metadata": {},
   "outputs": [
    {
     "ename": "KeyboardInterrupt",
     "evalue": "",
     "output_type": "error",
     "traceback": [
      "\u001b[1;31m---------------------------------------------------------------------------\u001b[0m",
      "\u001b[1;31mKeyboardInterrupt\u001b[0m                         Traceback (most recent call last)",
      "\u001b[1;32m<ipython-input-39-654f4112fd95>\u001b[0m in \u001b[0;36m<module>\u001b[1;34m()\u001b[0m\n\u001b[0;32m      1\u001b[0m \u001b[1;31m# Plot of the y variables against each of the features\u001b[0m\u001b[1;33m\u001b[0m\u001b[1;33m\u001b[0m\u001b[0m\n\u001b[0;32m      2\u001b[0m \u001b[1;33m\u001b[0m\u001b[0m\n\u001b[1;32m----> 3\u001b[1;33m \u001b[0mfig0\u001b[0m\u001b[1;33m,\u001b[0m \u001b[0maxs\u001b[0m \u001b[1;33m=\u001b[0m \u001b[0mplt\u001b[0m\u001b[1;33m.\u001b[0m\u001b[0msubplots\u001b[0m\u001b[1;33m(\u001b[0m\u001b[1;36m30\u001b[0m\u001b[1;33m,\u001b[0m\u001b[1;36m30\u001b[0m\u001b[1;33m,\u001b[0m \u001b[0mfigsize\u001b[0m\u001b[1;33m=\u001b[0m\u001b[1;33m(\u001b[0m\u001b[1;36m20\u001b[0m\u001b[1;33m,\u001b[0m\u001b[1;36m20\u001b[0m\u001b[1;33m)\u001b[0m\u001b[1;33m)\u001b[0m\u001b[1;33m\u001b[0m\u001b[0m\n\u001b[0m\u001b[0;32m      4\u001b[0m \u001b[1;33m\u001b[0m\u001b[0m\n\u001b[0;32m      5\u001b[0m \u001b[1;32mfor\u001b[0m \u001b[0mi\u001b[0m \u001b[1;32min\u001b[0m \u001b[0mrange\u001b[0m\u001b[1;33m(\u001b[0m\u001b[1;36m30\u001b[0m\u001b[1;33m)\u001b[0m\u001b[1;33m:\u001b[0m\u001b[1;33m\u001b[0m\u001b[0m\n",
      "\u001b[1;32m~\\Anaconda3\\lib\\site-packages\\matplotlib\\pyplot.py\u001b[0m in \u001b[0;36msubplots\u001b[1;34m(nrows, ncols, sharex, sharey, squeeze, subplot_kw, gridspec_kw, **fig_kw)\u001b[0m\n\u001b[0;32m   1199\u001b[0m     axs = fig.subplots(nrows=nrows, ncols=ncols, sharex=sharex, sharey=sharey,\n\u001b[0;32m   1200\u001b[0m                        \u001b[0msqueeze\u001b[0m\u001b[1;33m=\u001b[0m\u001b[0msqueeze\u001b[0m\u001b[1;33m,\u001b[0m \u001b[0msubplot_kw\u001b[0m\u001b[1;33m=\u001b[0m\u001b[0msubplot_kw\u001b[0m\u001b[1;33m,\u001b[0m\u001b[1;33m\u001b[0m\u001b[0m\n\u001b[1;32m-> 1201\u001b[1;33m                        gridspec_kw=gridspec_kw)\n\u001b[0m\u001b[0;32m   1202\u001b[0m     \u001b[1;32mreturn\u001b[0m \u001b[0mfig\u001b[0m\u001b[1;33m,\u001b[0m \u001b[0maxs\u001b[0m\u001b[1;33m\u001b[0m\u001b[0m\n\u001b[0;32m   1203\u001b[0m \u001b[1;33m\u001b[0m\u001b[0m\n",
      "\u001b[1;32m~\\Anaconda3\\lib\\site-packages\\matplotlib\\figure.py\u001b[0m in \u001b[0;36msubplots\u001b[1;34m(self, nrows, ncols, sharex, sharey, squeeze, subplot_kw, gridspec_kw)\u001b[0m\n\u001b[0;32m   1349\u001b[0m                 \u001b[0msubplot_kw\u001b[0m\u001b[1;33m[\u001b[0m\u001b[1;34m\"sharex\"\u001b[0m\u001b[1;33m]\u001b[0m \u001b[1;33m=\u001b[0m \u001b[0mshared_with\u001b[0m\u001b[1;33m[\u001b[0m\u001b[0msharex\u001b[0m\u001b[1;33m]\u001b[0m\u001b[1;33m\u001b[0m\u001b[0m\n\u001b[0;32m   1350\u001b[0m                 \u001b[0msubplot_kw\u001b[0m\u001b[1;33m[\u001b[0m\u001b[1;34m\"sharey\"\u001b[0m\u001b[1;33m]\u001b[0m \u001b[1;33m=\u001b[0m \u001b[0mshared_with\u001b[0m\u001b[1;33m[\u001b[0m\u001b[0msharey\u001b[0m\u001b[1;33m]\u001b[0m\u001b[1;33m\u001b[0m\u001b[0m\n\u001b[1;32m-> 1351\u001b[1;33m                 \u001b[0maxarr\u001b[0m\u001b[1;33m[\u001b[0m\u001b[0mrow\u001b[0m\u001b[1;33m,\u001b[0m \u001b[0mcol\u001b[0m\u001b[1;33m]\u001b[0m \u001b[1;33m=\u001b[0m \u001b[0mself\u001b[0m\u001b[1;33m.\u001b[0m\u001b[0madd_subplot\u001b[0m\u001b[1;33m(\u001b[0m\u001b[0mgs\u001b[0m\u001b[1;33m[\u001b[0m\u001b[0mrow\u001b[0m\u001b[1;33m,\u001b[0m \u001b[0mcol\u001b[0m\u001b[1;33m]\u001b[0m\u001b[1;33m,\u001b[0m \u001b[1;33m**\u001b[0m\u001b[0msubplot_kw\u001b[0m\u001b[1;33m)\u001b[0m\u001b[1;33m\u001b[0m\u001b[0m\n\u001b[0m\u001b[0;32m   1352\u001b[0m \u001b[1;33m\u001b[0m\u001b[0m\n\u001b[0;32m   1353\u001b[0m         \u001b[1;31m# turn off redundant tick labeling\u001b[0m\u001b[1;33m\u001b[0m\u001b[1;33m\u001b[0m\u001b[0m\n",
      "\u001b[1;32m~\\Anaconda3\\lib\\site-packages\\matplotlib\\figure.py\u001b[0m in \u001b[0;36madd_subplot\u001b[1;34m(self, *args, **kwargs)\u001b[0m\n\u001b[0;32m   1237\u001b[0m                     \u001b[0mself\u001b[0m\u001b[1;33m.\u001b[0m\u001b[0m_axstack\u001b[0m\u001b[1;33m.\u001b[0m\u001b[0mremove\u001b[0m\u001b[1;33m(\u001b[0m\u001b[0max\u001b[0m\u001b[1;33m)\u001b[0m\u001b[1;33m\u001b[0m\u001b[0m\n\u001b[0;32m   1238\u001b[0m \u001b[1;33m\u001b[0m\u001b[0m\n\u001b[1;32m-> 1239\u001b[1;33m             \u001b[0ma\u001b[0m \u001b[1;33m=\u001b[0m \u001b[0msubplot_class_factory\u001b[0m\u001b[1;33m(\u001b[0m\u001b[0mprojection_class\u001b[0m\u001b[1;33m)\u001b[0m\u001b[1;33m(\u001b[0m\u001b[0mself\u001b[0m\u001b[1;33m,\u001b[0m \u001b[1;33m*\u001b[0m\u001b[0margs\u001b[0m\u001b[1;33m,\u001b[0m \u001b[1;33m**\u001b[0m\u001b[0mkwargs\u001b[0m\u001b[1;33m)\u001b[0m\u001b[1;33m\u001b[0m\u001b[0m\n\u001b[0m\u001b[0;32m   1240\u001b[0m         \u001b[0mself\u001b[0m\u001b[1;33m.\u001b[0m\u001b[0m_axstack\u001b[0m\u001b[1;33m.\u001b[0m\u001b[0madd\u001b[0m\u001b[1;33m(\u001b[0m\u001b[0mkey\u001b[0m\u001b[1;33m,\u001b[0m \u001b[0ma\u001b[0m\u001b[1;33m)\u001b[0m\u001b[1;33m\u001b[0m\u001b[0m\n\u001b[0;32m   1241\u001b[0m         \u001b[0mself\u001b[0m\u001b[1;33m.\u001b[0m\u001b[0msca\u001b[0m\u001b[1;33m(\u001b[0m\u001b[0ma\u001b[0m\u001b[1;33m)\u001b[0m\u001b[1;33m\u001b[0m\u001b[0m\n",
      "\u001b[1;32m~\\Anaconda3\\lib\\site-packages\\matplotlib\\axes\\_subplots.py\u001b[0m in \u001b[0;36m__init__\u001b[1;34m(self, fig, *args, **kwargs)\u001b[0m\n\u001b[0;32m     75\u001b[0m \u001b[1;33m\u001b[0m\u001b[0m\n\u001b[0;32m     76\u001b[0m         \u001b[1;31m# _axes_class is set in the subplot_class_factory\u001b[0m\u001b[1;33m\u001b[0m\u001b[1;33m\u001b[0m\u001b[0m\n\u001b[1;32m---> 77\u001b[1;33m         \u001b[0mself\u001b[0m\u001b[1;33m.\u001b[0m\u001b[0m_axes_class\u001b[0m\u001b[1;33m.\u001b[0m\u001b[0m__init__\u001b[0m\u001b[1;33m(\u001b[0m\u001b[0mself\u001b[0m\u001b[1;33m,\u001b[0m \u001b[0mfig\u001b[0m\u001b[1;33m,\u001b[0m \u001b[0mself\u001b[0m\u001b[1;33m.\u001b[0m\u001b[0mfigbox\u001b[0m\u001b[1;33m,\u001b[0m \u001b[1;33m**\u001b[0m\u001b[0mkwargs\u001b[0m\u001b[1;33m)\u001b[0m\u001b[1;33m\u001b[0m\u001b[0m\n\u001b[0m\u001b[0;32m     78\u001b[0m         \u001b[1;31m# add a layout box to this, for both the full axis, and the poss\u001b[0m\u001b[1;33m\u001b[0m\u001b[1;33m\u001b[0m\u001b[0m\n\u001b[0;32m     79\u001b[0m         \u001b[1;31m# of the axis.  We need both because the axes may become smaller\u001b[0m\u001b[1;33m\u001b[0m\u001b[1;33m\u001b[0m\u001b[0m\n",
      "\u001b[1;32m~\\Anaconda3\\lib\\site-packages\\matplotlib\\axes\\_base.py\u001b[0m in \u001b[0;36m__init__\u001b[1;34m(self, fig, rect, facecolor, frameon, sharex, sharey, label, xscale, yscale, **kwargs)\u001b[0m\n\u001b[0;32m    507\u001b[0m \u001b[1;33m\u001b[0m\u001b[0m\n\u001b[0;32m    508\u001b[0m         \u001b[1;31m# this call may differ for non-sep axes, e.g., polar\u001b[0m\u001b[1;33m\u001b[0m\u001b[1;33m\u001b[0m\u001b[0m\n\u001b[1;32m--> 509\u001b[1;33m         \u001b[0mself\u001b[0m\u001b[1;33m.\u001b[0m\u001b[0m_init_axis\u001b[0m\u001b[1;33m(\u001b[0m\u001b[1;33m)\u001b[0m\u001b[1;33m\u001b[0m\u001b[0m\n\u001b[0m\u001b[0;32m    510\u001b[0m         \u001b[1;32mif\u001b[0m \u001b[0mfacecolor\u001b[0m \u001b[1;32mis\u001b[0m \u001b[1;32mNone\u001b[0m\u001b[1;33m:\u001b[0m\u001b[1;33m\u001b[0m\u001b[0m\n\u001b[0;32m    511\u001b[0m             \u001b[0mfacecolor\u001b[0m \u001b[1;33m=\u001b[0m \u001b[0mrcParams\u001b[0m\u001b[1;33m[\u001b[0m\u001b[1;34m'axes.facecolor'\u001b[0m\u001b[1;33m]\u001b[0m\u001b[1;33m\u001b[0m\u001b[0m\n",
      "\u001b[1;32m~\\Anaconda3\\lib\\site-packages\\matplotlib\\axes\\_base.py\u001b[0m in \u001b[0;36m_init_axis\u001b[1;34m(self)\u001b[0m\n\u001b[0;32m    615\u001b[0m     \u001b[1;32mdef\u001b[0m \u001b[0m_init_axis\u001b[0m\u001b[1;33m(\u001b[0m\u001b[0mself\u001b[0m\u001b[1;33m)\u001b[0m\u001b[1;33m:\u001b[0m\u001b[1;33m\u001b[0m\u001b[0m\n\u001b[0;32m    616\u001b[0m         \u001b[1;34m\"move this out of __init__ because non-separable axes don't use it\"\u001b[0m\u001b[1;33m\u001b[0m\u001b[0m\n\u001b[1;32m--> 617\u001b[1;33m         \u001b[0mself\u001b[0m\u001b[1;33m.\u001b[0m\u001b[0mxaxis\u001b[0m \u001b[1;33m=\u001b[0m \u001b[0mmaxis\u001b[0m\u001b[1;33m.\u001b[0m\u001b[0mXAxis\u001b[0m\u001b[1;33m(\u001b[0m\u001b[0mself\u001b[0m\u001b[1;33m)\u001b[0m\u001b[1;33m\u001b[0m\u001b[0m\n\u001b[0m\u001b[0;32m    618\u001b[0m         \u001b[0mself\u001b[0m\u001b[1;33m.\u001b[0m\u001b[0mspines\u001b[0m\u001b[1;33m[\u001b[0m\u001b[1;34m'bottom'\u001b[0m\u001b[1;33m]\u001b[0m\u001b[1;33m.\u001b[0m\u001b[0mregister_axis\u001b[0m\u001b[1;33m(\u001b[0m\u001b[0mself\u001b[0m\u001b[1;33m.\u001b[0m\u001b[0mxaxis\u001b[0m\u001b[1;33m)\u001b[0m\u001b[1;33m\u001b[0m\u001b[0m\n\u001b[0;32m    619\u001b[0m         \u001b[0mself\u001b[0m\u001b[1;33m.\u001b[0m\u001b[0mspines\u001b[0m\u001b[1;33m[\u001b[0m\u001b[1;34m'top'\u001b[0m\u001b[1;33m]\u001b[0m\u001b[1;33m.\u001b[0m\u001b[0mregister_axis\u001b[0m\u001b[1;33m(\u001b[0m\u001b[0mself\u001b[0m\u001b[1;33m.\u001b[0m\u001b[0mxaxis\u001b[0m\u001b[1;33m)\u001b[0m\u001b[1;33m\u001b[0m\u001b[0m\n",
      "\u001b[1;32m~\\Anaconda3\\lib\\site-packages\\matplotlib\\axis.py\u001b[0m in \u001b[0;36m__init__\u001b[1;34m(self, axes, pickradius)\u001b[0m\n\u001b[0;32m    730\u001b[0m         \u001b[0mself\u001b[0m\u001b[1;33m.\u001b[0m\u001b[0m_minor_tick_kw\u001b[0m \u001b[1;33m=\u001b[0m \u001b[0mdict\u001b[0m\u001b[1;33m(\u001b[0m\u001b[1;33m)\u001b[0m\u001b[1;33m\u001b[0m\u001b[0m\n\u001b[0;32m    731\u001b[0m \u001b[1;33m\u001b[0m\u001b[0m\n\u001b[1;32m--> 732\u001b[1;33m         \u001b[0mself\u001b[0m\u001b[1;33m.\u001b[0m\u001b[0mcla\u001b[0m\u001b[1;33m(\u001b[0m\u001b[1;33m)\u001b[0m\u001b[1;33m\u001b[0m\u001b[0m\n\u001b[0m\u001b[0;32m    733\u001b[0m         \u001b[0mself\u001b[0m\u001b[1;33m.\u001b[0m\u001b[0m_set_scale\u001b[0m\u001b[1;33m(\u001b[0m\u001b[1;34m'linear'\u001b[0m\u001b[1;33m)\u001b[0m\u001b[1;33m\u001b[0m\u001b[0m\n\u001b[0;32m    734\u001b[0m \u001b[1;33m\u001b[0m\u001b[0m\n",
      "\u001b[1;32m~\\Anaconda3\\lib\\site-packages\\matplotlib\\axis.py\u001b[0m in \u001b[0;36mcla\u001b[1;34m(self)\u001b[0m\n\u001b[0;32m    804\u001b[0m         \u001b[0mself\u001b[0m\u001b[1;33m.\u001b[0m\u001b[0mlabel\u001b[0m\u001b[1;33m.\u001b[0m\u001b[0mset_text\u001b[0m\u001b[1;33m(\u001b[0m\u001b[1;34m''\u001b[0m\u001b[1;33m)\u001b[0m  \u001b[1;31m# self.set_label_text would change isDefault_\u001b[0m\u001b[1;33m\u001b[0m\u001b[0m\n\u001b[0;32m    805\u001b[0m \u001b[1;33m\u001b[0m\u001b[0m\n\u001b[1;32m--> 806\u001b[1;33m         \u001b[0mself\u001b[0m\u001b[1;33m.\u001b[0m\u001b[0m_set_scale\u001b[0m\u001b[1;33m(\u001b[0m\u001b[1;34m'linear'\u001b[0m\u001b[1;33m)\u001b[0m\u001b[1;33m\u001b[0m\u001b[0m\n\u001b[0m\u001b[0;32m    807\u001b[0m \u001b[1;33m\u001b[0m\u001b[0m\n\u001b[0;32m    808\u001b[0m         \u001b[1;31m# Clear the callback registry for this axis, or it may \"leak\"\u001b[0m\u001b[1;33m\u001b[0m\u001b[1;33m\u001b[0m\u001b[0m\n",
      "\u001b[1;32m~\\Anaconda3\\lib\\site-packages\\matplotlib\\axis.py\u001b[0m in \u001b[0;36m_set_scale\u001b[1;34m(self, value, **kwargs)\u001b[0m\n\u001b[0;32m    770\u001b[0m     \u001b[1;32mdef\u001b[0m \u001b[0m_set_scale\u001b[0m\u001b[1;33m(\u001b[0m\u001b[0mself\u001b[0m\u001b[1;33m,\u001b[0m \u001b[0mvalue\u001b[0m\u001b[1;33m,\u001b[0m \u001b[1;33m**\u001b[0m\u001b[0mkwargs\u001b[0m\u001b[1;33m)\u001b[0m\u001b[1;33m:\u001b[0m\u001b[1;33m\u001b[0m\u001b[0m\n\u001b[0;32m    771\u001b[0m         \u001b[0mself\u001b[0m\u001b[1;33m.\u001b[0m\u001b[0m_scale\u001b[0m \u001b[1;33m=\u001b[0m \u001b[0mmscale\u001b[0m\u001b[1;33m.\u001b[0m\u001b[0mscale_factory\u001b[0m\u001b[1;33m(\u001b[0m\u001b[0mvalue\u001b[0m\u001b[1;33m,\u001b[0m \u001b[0mself\u001b[0m\u001b[1;33m,\u001b[0m \u001b[1;33m**\u001b[0m\u001b[0mkwargs\u001b[0m\u001b[1;33m)\u001b[0m\u001b[1;33m\u001b[0m\u001b[0m\n\u001b[1;32m--> 772\u001b[1;33m         \u001b[0mself\u001b[0m\u001b[1;33m.\u001b[0m\u001b[0m_scale\u001b[0m\u001b[1;33m.\u001b[0m\u001b[0mset_default_locators_and_formatters\u001b[0m\u001b[1;33m(\u001b[0m\u001b[0mself\u001b[0m\u001b[1;33m)\u001b[0m\u001b[1;33m\u001b[0m\u001b[0m\n\u001b[0m\u001b[0;32m    773\u001b[0m \u001b[1;33m\u001b[0m\u001b[0m\n\u001b[0;32m    774\u001b[0m         \u001b[0mself\u001b[0m\u001b[1;33m.\u001b[0m\u001b[0misDefault_majloc\u001b[0m \u001b[1;33m=\u001b[0m \u001b[1;32mTrue\u001b[0m\u001b[1;33m\u001b[0m\u001b[0m\n",
      "\u001b[1;32m~\\Anaconda3\\lib\\site-packages\\matplotlib\\scale.py\u001b[0m in \u001b[0;36mset_default_locators_and_formatters\u001b[1;34m(self, axis)\u001b[0m\n\u001b[0;32m     71\u001b[0m         \u001b[0mlinear\u001b[0m \u001b[0mscaling\u001b[0m\u001b[1;33m.\u001b[0m\u001b[1;33m\u001b[0m\u001b[0m\n\u001b[0;32m     72\u001b[0m         \"\"\"\n\u001b[1;32m---> 73\u001b[1;33m         \u001b[0maxis\u001b[0m\u001b[1;33m.\u001b[0m\u001b[0mset_major_locator\u001b[0m\u001b[1;33m(\u001b[0m\u001b[0mAutoLocator\u001b[0m\u001b[1;33m(\u001b[0m\u001b[1;33m)\u001b[0m\u001b[1;33m)\u001b[0m\u001b[1;33m\u001b[0m\u001b[0m\n\u001b[0m\u001b[0;32m     74\u001b[0m         \u001b[0maxis\u001b[0m\u001b[1;33m.\u001b[0m\u001b[0mset_major_formatter\u001b[0m\u001b[1;33m(\u001b[0m\u001b[0mScalarFormatter\u001b[0m\u001b[1;33m(\u001b[0m\u001b[1;33m)\u001b[0m\u001b[1;33m)\u001b[0m\u001b[1;33m\u001b[0m\u001b[0m\n\u001b[0;32m     75\u001b[0m         \u001b[0maxis\u001b[0m\u001b[1;33m.\u001b[0m\u001b[0mset_minor_formatter\u001b[0m\u001b[1;33m(\u001b[0m\u001b[0mNullFormatter\u001b[0m\u001b[1;33m(\u001b[0m\u001b[1;33m)\u001b[0m\u001b[1;33m)\u001b[0m\u001b[1;33m\u001b[0m\u001b[0m\n",
      "\u001b[1;32m~\\Anaconda3\\lib\\site-packages\\matplotlib\\ticker.py\u001b[0m in \u001b[0;36m__init__\u001b[1;34m(self)\u001b[0m\n\u001b[0;32m   2493\u001b[0m             \u001b[0mnbins\u001b[0m \u001b[1;33m=\u001b[0m \u001b[1;34m'auto'\u001b[0m\u001b[1;33m\u001b[0m\u001b[0m\n\u001b[0;32m   2494\u001b[0m             \u001b[0msteps\u001b[0m \u001b[1;33m=\u001b[0m \u001b[1;33m[\u001b[0m\u001b[1;36m1\u001b[0m\u001b[1;33m,\u001b[0m \u001b[1;36m2\u001b[0m\u001b[1;33m,\u001b[0m \u001b[1;36m2.5\u001b[0m\u001b[1;33m,\u001b[0m \u001b[1;36m5\u001b[0m\u001b[1;33m,\u001b[0m \u001b[1;36m10\u001b[0m\u001b[1;33m]\u001b[0m\u001b[1;33m\u001b[0m\u001b[0m\n\u001b[1;32m-> 2495\u001b[1;33m         \u001b[0mMaxNLocator\u001b[0m\u001b[1;33m.\u001b[0m\u001b[0m__init__\u001b[0m\u001b[1;33m(\u001b[0m\u001b[0mself\u001b[0m\u001b[1;33m,\u001b[0m \u001b[0mnbins\u001b[0m\u001b[1;33m=\u001b[0m\u001b[0mnbins\u001b[0m\u001b[1;33m,\u001b[0m \u001b[0msteps\u001b[0m\u001b[1;33m=\u001b[0m\u001b[0msteps\u001b[0m\u001b[1;33m)\u001b[0m\u001b[1;33m\u001b[0m\u001b[0m\n\u001b[0m\u001b[0;32m   2496\u001b[0m \u001b[1;33m\u001b[0m\u001b[0m\n\u001b[0;32m   2497\u001b[0m \u001b[1;33m\u001b[0m\u001b[0m\n",
      "\u001b[1;32m~\\Anaconda3\\lib\\site-packages\\matplotlib\\ticker.py\u001b[0m in \u001b[0;36m__init__\u001b[1;34m(self, *args, **kwargs)\u001b[0m\n\u001b[0;32m   1838\u001b[0m                 raise ValueError(\n\u001b[0;32m   1839\u001b[0m                     \"Keywords are required for all arguments except 'nbins'\")\n\u001b[1;32m-> 1840\u001b[1;33m         \u001b[0mself\u001b[0m\u001b[1;33m.\u001b[0m\u001b[0mset_params\u001b[0m\u001b[1;33m(\u001b[0m\u001b[1;33m**\u001b[0m\u001b[0mself\u001b[0m\u001b[1;33m.\u001b[0m\u001b[0mdefault_params\u001b[0m\u001b[1;33m)\u001b[0m\u001b[1;33m\u001b[0m\u001b[0m\n\u001b[0m\u001b[0;32m   1841\u001b[0m         \u001b[0mself\u001b[0m\u001b[1;33m.\u001b[0m\u001b[0mset_params\u001b[0m\u001b[1;33m(\u001b[0m\u001b[1;33m**\u001b[0m\u001b[0mkwargs\u001b[0m\u001b[1;33m)\u001b[0m\u001b[1;33m\u001b[0m\u001b[0m\n\u001b[0;32m   1842\u001b[0m \u001b[1;33m\u001b[0m\u001b[0m\n",
      "\u001b[1;32m~\\Anaconda3\\lib\\site-packages\\matplotlib\\ticker.py\u001b[0m in \u001b[0;36mset_params\u001b[1;34m(self, **kwargs)\u001b[0m\n\u001b[0;32m   1890\u001b[0m             \u001b[1;32melse\u001b[0m\u001b[1;33m:\u001b[0m\u001b[1;33m\u001b[0m\u001b[0m\n\u001b[0;32m   1891\u001b[0m                 \u001b[0mself\u001b[0m\u001b[1;33m.\u001b[0m\u001b[0m_steps\u001b[0m \u001b[1;33m=\u001b[0m \u001b[0mself\u001b[0m\u001b[1;33m.\u001b[0m\u001b[0m_validate_steps\u001b[0m\u001b[1;33m(\u001b[0m\u001b[0msteps\u001b[0m\u001b[1;33m)\u001b[0m\u001b[1;33m\u001b[0m\u001b[0m\n\u001b[1;32m-> 1892\u001b[1;33m             \u001b[0mself\u001b[0m\u001b[1;33m.\u001b[0m\u001b[0m_extended_steps\u001b[0m \u001b[1;33m=\u001b[0m \u001b[0mself\u001b[0m\u001b[1;33m.\u001b[0m\u001b[0m_staircase\u001b[0m\u001b[1;33m(\u001b[0m\u001b[0mself\u001b[0m\u001b[1;33m.\u001b[0m\u001b[0m_steps\u001b[0m\u001b[1;33m)\u001b[0m\u001b[1;33m\u001b[0m\u001b[0m\n\u001b[0m\u001b[0;32m   1893\u001b[0m         \u001b[1;32mif\u001b[0m \u001b[1;34m'integer'\u001b[0m \u001b[1;32min\u001b[0m \u001b[0mkwargs\u001b[0m\u001b[1;33m:\u001b[0m\u001b[1;33m\u001b[0m\u001b[0m\n\u001b[0;32m   1894\u001b[0m             \u001b[0mself\u001b[0m\u001b[1;33m.\u001b[0m\u001b[0m_integer\u001b[0m \u001b[1;33m=\u001b[0m \u001b[0mkwargs\u001b[0m\u001b[1;33m[\u001b[0m\u001b[1;34m'integer'\u001b[0m\u001b[1;33m]\u001b[0m\u001b[1;33m\u001b[0m\u001b[0m\n",
      "\u001b[1;32m~\\Anaconda3\\lib\\site-packages\\matplotlib\\ticker.py\u001b[0m in \u001b[0;36m_staircase\u001b[1;34m(steps)\u001b[0m\n\u001b[0;32m   1866\u001b[0m         \u001b[1;31m# than necessary.\u001b[0m\u001b[1;33m\u001b[0m\u001b[1;33m\u001b[0m\u001b[0m\n\u001b[0;32m   1867\u001b[0m         \u001b[0mflights\u001b[0m \u001b[1;33m=\u001b[0m \u001b[1;33m(\u001b[0m\u001b[1;36m0.1\u001b[0m \u001b[1;33m*\u001b[0m \u001b[0msteps\u001b[0m\u001b[1;33m[\u001b[0m\u001b[1;33m:\u001b[0m\u001b[1;33m-\u001b[0m\u001b[1;36m1\u001b[0m\u001b[1;33m]\u001b[0m\u001b[1;33m,\u001b[0m \u001b[0msteps\u001b[0m\u001b[1;33m,\u001b[0m \u001b[1;36m10\u001b[0m \u001b[1;33m*\u001b[0m \u001b[0msteps\u001b[0m\u001b[1;33m[\u001b[0m\u001b[1;36m1\u001b[0m\u001b[1;33m]\u001b[0m\u001b[1;33m)\u001b[0m\u001b[1;33m\u001b[0m\u001b[0m\n\u001b[1;32m-> 1868\u001b[1;33m         \u001b[1;32mreturn\u001b[0m \u001b[0mnp\u001b[0m\u001b[1;33m.\u001b[0m\u001b[0mhstack\u001b[0m\u001b[1;33m(\u001b[0m\u001b[0mflights\u001b[0m\u001b[1;33m)\u001b[0m\u001b[1;33m\u001b[0m\u001b[0m\n\u001b[0m\u001b[0;32m   1869\u001b[0m \u001b[1;33m\u001b[0m\u001b[0m\n\u001b[0;32m   1870\u001b[0m     \u001b[1;32mdef\u001b[0m \u001b[0mset_params\u001b[0m\u001b[1;33m(\u001b[0m\u001b[0mself\u001b[0m\u001b[1;33m,\u001b[0m \u001b[1;33m**\u001b[0m\u001b[0mkwargs\u001b[0m\u001b[1;33m)\u001b[0m\u001b[1;33m:\u001b[0m\u001b[1;33m\u001b[0m\u001b[0m\n",
      "\u001b[1;32m~\\Anaconda3\\lib\\site-packages\\numpy\\core\\shape_base.py\u001b[0m in \u001b[0;36mhstack\u001b[1;34m(tup)\u001b[0m\n\u001b[0;32m    284\u001b[0m     \u001b[1;31m# As a special case, dimension 0 of 1-dimensional arrays is \"horizontal\"\u001b[0m\u001b[1;33m\u001b[0m\u001b[1;33m\u001b[0m\u001b[0m\n\u001b[0;32m    285\u001b[0m     \u001b[1;32mif\u001b[0m \u001b[0marrs\u001b[0m \u001b[1;32mand\u001b[0m \u001b[0marrs\u001b[0m\u001b[1;33m[\u001b[0m\u001b[1;36m0\u001b[0m\u001b[1;33m]\u001b[0m\u001b[1;33m.\u001b[0m\u001b[0mndim\u001b[0m \u001b[1;33m==\u001b[0m \u001b[1;36m1\u001b[0m\u001b[1;33m:\u001b[0m\u001b[1;33m\u001b[0m\u001b[0m\n\u001b[1;32m--> 286\u001b[1;33m         \u001b[1;32mreturn\u001b[0m \u001b[0m_nx\u001b[0m\u001b[1;33m.\u001b[0m\u001b[0mconcatenate\u001b[0m\u001b[1;33m(\u001b[0m\u001b[0marrs\u001b[0m\u001b[1;33m,\u001b[0m \u001b[1;36m0\u001b[0m\u001b[1;33m)\u001b[0m\u001b[1;33m\u001b[0m\u001b[0m\n\u001b[0m\u001b[0;32m    287\u001b[0m     \u001b[1;32melse\u001b[0m\u001b[1;33m:\u001b[0m\u001b[1;33m\u001b[0m\u001b[0m\n\u001b[0;32m    288\u001b[0m         \u001b[1;32mreturn\u001b[0m \u001b[0m_nx\u001b[0m\u001b[1;33m.\u001b[0m\u001b[0mconcatenate\u001b[0m\u001b[1;33m(\u001b[0m\u001b[0marrs\u001b[0m\u001b[1;33m,\u001b[0m \u001b[1;36m1\u001b[0m\u001b[1;33m)\u001b[0m\u001b[1;33m\u001b[0m\u001b[0m\n",
      "\u001b[1;31mKeyboardInterrupt\u001b[0m: "
     ]
    },
    {
     "data": {
      "image/png": "[encoded data removed]",
      "text/plain": [
       "<Figure size 1440x1440 with 265 Axes>"
      ]
     },
     "metadata": {},
     "output_type": "display_data"
    }
   ],
   "source": [
    "# Plot of the y variables against each of the features\n",
    "\n",
    "fig0, axs = plt.subplots(30,30, figsize=(20,20))\n",
    "\n",
    "for i in range(30):\n",
    "    for j in range(i+1,30):\n",
    "        axs[i,j].scatter(input_data[:,i], input_data[:,j])\n",
    "        axs[i,j].set_ylabel('Prediction')\n",
    "        axs[i,j].set_xlabel('Column %i' % i)\n",
    "    "
   ]
  },
  {
   "cell_type": "markdown",
   "metadata": {},
   "source": [
    "Correlation coefficients of the features, to understand if they are linearly correlated"
   ]
  },
  {
   "cell_type": "code",
   "execution_count": 4,
   "metadata": {},
   "outputs": [
    {
     "data": {
      "image/png": "[encoded data removed]",
      "text/plain": [
       "<Figure size 864x864 with 2 Axes>"
      ]
     },
     "metadata": {},
     "output_type": "display_data"
    }
   ],
   "source": [
    "cor_matrix = np.corrcoef(input_data.T)\n",
    "\n",
    "plt.figure(1, figsize=(12,12))\n",
    "plt.matshow(np.abs(cor_matrix),1)\n",
    "plt.xticks(range(cols), range(cols))\n",
    "plt.yticks(range(cols), range(cols))\n",
    "plt.colorbar()\n",
    "plt.savefig('correlation_matrix'+'.png')"
   ]
  },
  {
   "cell_type": "markdown",
   "metadata": {},
   "source": [
    "We decide to leave out columns 5, 9, 12, 21, 22, 23, 29 due to the high correlation with the others."
   ]
  },
  {
   "cell_type": "code",
   "execution_count": 5,
   "metadata": {
    "scrolled": true
   },
   "outputs": [
    {
     "data": {
      "image/png": "[encoded data removed]",
      "text/plain": [
       "<Figure size 864x864 with 2 Axes>"
      ]
     },
     "metadata": {},
     "output_type": "display_data"
    }
   ],
   "source": [
    "data = np.delete(input_data,[5,9,12,21,22,23,29],1)\n",
    "\n",
    "#Compute again the correlation and check\n",
    "cor_matrix = np.corrcoef(data.T)\n",
    "plt.figure(2, figsize=(12,12))\n",
    "plt.matshow(np.abs(cor_matrix),2)\n",
    "plt.xticks(range(23), range(23))\n",
    "plt.yticks(range(23), range(23))\n",
    "plt.colorbar()\n",
    "plt.savefig('correlation_new'+'.png')"
   ]
  },
  {
   "cell_type": "markdown",
   "metadata": {},
   "source": [
    "# Fitting a linear model\n",
    "First of all we fit our linear model on the subset of data, and then use the whole train dataset to test it, at least at the beginning. In the end we will use the whole dataset to train the model. We try with 5 polynomial degrees per feature, otherwise the number of features becomes too large.\n",
    "Compare the mse and the computational time of the 3 methods to get the least squares solution: the first one is the correct one, but maybe the others are faster.\n",
    "\n",
    "\n",
    "1.Linear regression with mse and normal equations\n",
    "\n",
    "\n",
    "2.Linear regression with mse and gradient descent\n",
    "\n",
    "\n",
    "3.Linear regression with mse and stochastic gradient descent\n",
    "\n"
   ]
  },
  {
   "cell_type": "code",
   "execution_count": 6,
   "metadata": {},
   "outputs": [],
   "source": [
    "# Function that builds a polynomial basis of the chosen degree for a column \n",
    "def build_poly_col(x, degree):\n",
    "    \"\"\"polynomial basis functions for input column x, for j=1 up to j=degree.\"\"\"\n",
    "    \n",
    "    y = x\n",
    "        \n",
    "    for n in range(2,degree+1):\n",
    "        x = np.c_[x, np.power(y,n)]\n",
    "            \n",
    "    return x\n",
    "\n",
    "# Function that builds a polynomial basis for the data (each column has the same degree)\n",
    "def build_poly(data, degree):\n",
    "    \"\"\"polynomial basis for input data up to the chosen degree in each column\"\"\"\n",
    "    \n",
    "    X = np.c_[np.ones(data.shape[0])]\n",
    "    for j in range(data.shape[1]):\n",
    "        x_col = build_poly_col(data[:,j], degree)\n",
    "        X = np.c_[X, x_col]\n",
    "        \n",
    "    return X\n"
   ]
  },
  {
   "cell_type": "code",
   "execution_count": 7,
   "metadata": {},
   "outputs": [],
   "source": [
    "# Functions to build the indices and split the data to perform cross validation\n",
    "\n",
    "def build_k_indices(y, k_fold, seed):\n",
    "    \"\"\"build k indices for k-fold.\"\"\"\n",
    "    \n",
    "    num_row = y.shape[0]\n",
    "    interval = int(num_row / k_fold)\n",
    "    np.random.seed(seed)\n",
    "    indices = np.random.permutation(num_row)\n",
    "    k_indices = [indices[k * interval: (k + 1) * interval]\n",
    "                 for k in range(k_fold)]\n",
    "    return np.array(k_indices)\n",
    "\n",
    "\n",
    "def split_dataset(y, x, k, k_indices):\n",
    "    \"\"\"Returns the matrices and vectors Test and Train used in a k-fold cross validation\"\"\"\n",
    "    \n",
    "    # get k'th subgroup in test, others in train.\n",
    "    X_test = x[k_indices[k]]\n",
    "    y_test = y[k_indices[k]]\n",
    "    X_train = np.delete(x,k_indices[k],0)\n",
    "    y_train = np.delete(y,k_indices[k])\n",
    "    \n",
    "    return X_test, y_test, X_train, y_train\n"
   ]
  },
  {
   "cell_type": "code",
   "execution_count": null,
   "metadata": {},
   "outputs": [],
   "source": [
    "\n",
    "def ls_polynomial_basis(yb, data, kfolds, degrees):\n",
    "    \"\"\"Builds a polynomial basis according to the chosen degree and solves the least squares problem\n",
    "        with the normal equations, performing a k-fold cross validation to compute the rmse and the weights\"\"\"\n",
    "    \n",
    "    rmse_train=[]\n",
    "    rmse_test=[]\n",
    "    seed = 2\n",
    "\n",
    "    # Build indices to split data\n",
    "    k_indices = build_k_indices(yb, kfolds, seed)\n",
    "\n",
    "    # Define lists to store the loss of training data and test data\n",
    "    rmse_tr = []\n",
    "    rmse_te = []\n",
    "    std_tr = []\n",
    "    std_te = []\n",
    "    w_ls = []\n",
    "\n",
    "    # Choose the degrees and loop over them\n",
    "    for degree in degrees:\n",
    "        rmse_tr_k=[]\n",
    "        rmse_te_k=[]\n",
    "        w_ls_deg = []\n",
    "    \n",
    "        # Build X matrix\n",
    "        data1 = build_poly(data, degree)\n",
    "    \n",
    "        # Loop over the folds\n",
    "        for k in range(kfolds):\n",
    "        \n",
    "            data_test_ls, y_test_ls, data_train_ls, y_train_ls = split_dataset(yb, data1, k, k_indices)   \n",
    "        \n",
    "            # Train and store rmse\n",
    "            w_ls_k, mse_ls_k = least_squares(y_train_ls, data_train_ls)\n",
    "            rmse_test = np.sqrt(2*compute_mse(y_test_ls, data_test_ls, w_ls_k))\n",
    "            \n",
    "            rmse_tr_k.append(np.sqrt(2*mse_ls_k))\n",
    "            rmse_te_k.append(rmse_test)\n",
    "            w_ls_deg.append(w_ls_k)\n",
    "            \n",
    "        \n",
    "        # Append rmse (and std over the folds) in the vectors\n",
    "        rmse_tr.append(np.mean(rmse_tr_k))\n",
    "        rmse_te.append(np.mean(rmse_te_k))\n",
    "        std_tr.append(np.std(rmse_tr_k))\n",
    "        std_te.append(np.std(rmse_te_k))\n",
    "        w_ls.append(np.mean(w_ls_deg, axis=0))\n",
    "        \n",
    "\n",
    "    return rmse_tr, rmse_te, std_tr, std_te, w_ls"
   ]
  },
  {
   "cell_type": "markdown",
   "metadata": {},
   "source": [
    "We try this first simple model both on the matrix with all the features and on the reduced matrix, and compare the results."
   ]
  },
  {
   "cell_type": "code",
   "execution_count": null,
   "metadata": {},
   "outputs": [],
   "source": [
    "degrees = range(1,5)\n",
    "\n",
    "rmse_train_tot, rmse_test_tot, std_train_tot, std_test_tot, w_tot = ls_polynomial_basis(yb, input_data, 5, degrees)\n",
    "rmse_train_red, rmse_test_red, std_train_red, std_test_red, w_red = ls_polynomial_basis(yb, data, 5, degrees)\n",
    "\n",
    "# Plot RMSE to compare the results\n",
    "fig3, axs= plt.subplots(1,2, figsize=(14,6))\n",
    "axs[0].plot(degrees, rmse_train_tot, marker=\".\", c='b', label='Train error')\n",
    "axs[0].plot(degrees, rmse_test_tot, marker=\".\", c='r', label='Test error')\n",
    "#plt.errorbar(degrees, rmse_tr, std_tr, marker=\".\", color='b', label='Train error')\n",
    "#plt.errorbar(degrees, rmse_te, std_te, marker=\".\", color='r', label='Test error')\n",
    "axs[0].set_xlabel(\"Degrees\")\n",
    "axs[0].set_ylabel(\"RMSE\")\n",
    "axs[0].set_title(\"RMSE Least Squares polynomial basis TOTAL\")\n",
    "axs[0].legend(loc=2)\n",
    "axs[0].set_xticks(degrees)\n",
    "\n",
    "axs[1].plot(degrees, rmse_train_red, marker=\".\", c='b', label='Train error')\n",
    "axs[1].plot(degrees, rmse_test_red, marker=\".\", c='r', label='Test error')\n",
    "axs[1].set_xlabel(\"Degrees\")\n",
    "axs[1].set_ylabel(\"RMSE\")\n",
    "axs[1].set_title(\"RMSE Least Squares polynomial basis REDUCED\")\n",
    "axs[1].legend(loc=2)\n",
    "axs[1].set_xticks(degrees)\n",
    "plt.savefig(\"rmse_ls\")\n"
   ]
  },
  {
   "cell_type": "code",
   "execution_count": null,
   "metadata": {},
   "outputs": [],
   "source": [
    "print('Training RMSE LS with NORMAL EQUATIONS: {err1}'.format(err1=rmse_train_red))"
   ]
  },
  {
   "cell_type": "markdown",
   "metadata": {},
   "source": [
    "In both cases we find a significant overfitting even at a low degree (3,4) and to try to reduce it we use ridge regression. Before doing that, we try to minimize the mse loss function with GD and SGD: we should get an approximation of the minimum (compare the values with the exact value give by LS!) but maybe save computational time. However we should put a lot of effort in tuning the parameters for the iterative method (max_iter, gamma) and maybe it's not worth it."
   ]
  },
  {
   "cell_type": "markdown",
   "metadata": {},
   "source": [
    "### Gradient descent and stochastic gradient descent."
   ]
  },
  {
   "cell_type": "code",
   "execution_count": null,
   "metadata": {},
   "outputs": [],
   "source": [
    "degree = 2\n",
    "max_iters = 2000\n",
    "\n",
    "# build the matrix and call the methods, after setting the parameters to ensure convergence\n",
    "data2 = build_poly(data,2)\n",
    "w_initial_red = np.zeros(data2.shape[1])\n",
    "\n",
    "w_red_GD, mse_red_GD = least_squares_GD(yb, data2, w_initial_red, max_iters, 0.001, tol=1e-4)\n",
    "w_red_SGD, mse_red_SGD = least_squares_SGD(yb, data2, w_initial_red, max_iters, 0.001, tol=1e-5)\n",
    "\n",
    "rmse_train_red_GD = np.sqrt(2*mse_red_GD)\n",
    "rmse_train_red_SGD = np.sqrt(2*mse_red_SGD)\n",
    "\n",
    "print('Training RMSE LS with NORMAL EQUATIONS: {err1}'.format(err1=rmse_train_red[1]))\n",
    "print('Training RMSE LS with GRADIENT DESCENT: {err2}'.format(err2=rmse_train_red_GD))\n",
    "print('Training RMSE LS with STOCHASTIC GRADIENT DESCENT: {err3}'.format(err3=rmse_train_red_SGD))"
   ]
  },
  {
   "cell_type": "code",
   "execution_count": null,
   "metadata": {},
   "outputs": [],
   "source": [
    "print('Distance between the weigths normal equations/GD: {dist1}'.format(dist1=np.linalg.norm(w_red[1] - w_red_GD)))\n",
    "print('Distance between the weigths normal equations/SGD: {dist2}'.format(dist2=np.linalg.norm(w_red[1] - w_red_SGD)))"
   ]
  },
  {
   "cell_type": "markdown",
   "metadata": {},
   "source": [
    "We can't see any useful improvement by using the approximate methods to solve the minimization problem: the error on the training set is higher (correct) even if the one with GD is comparable, the computational time is even higher and moreover we need to run different attempts in order to decide the suitable parameters max_iters and gamma to obtain convergence. "
   ]
  },
  {
   "cell_type": "markdown",
   "metadata": {},
   "source": [
    "### Ridge regression.\n",
    "Since we had the problem of overfitting, we try to introduce a regularization technique, based again on the mse loss function.\n",
    "We try with different lambdas and do a 5 folds cross validation with a fixed degree (=2), then we try again changing the degree because this is exactly the purpose of the regularization technique."
   ]
  },
  {
   "cell_type": "code",
   "execution_count": 41,
   "metadata": {},
   "outputs": [],
   "source": [
    "def compute_accuracy(ypred, yknown):\n",
    "    \"\"\"Computes the accuracy of the prediction as n_exact_predictions/total\"\"\"\n",
    "    \n",
    "    nexact = np.sum(ypred == yknown)\n",
    "    return nexact/len(yknown)"
   ]
  },
  {
   "cell_type": "code",
   "execution_count": 45,
   "metadata": {},
   "outputs": [],
   "source": [
    "def ridge_lambda(yb, data, kfolds, degree, lambdas):\n",
    "    \"\"\"Builds a polynomial basis according to the chosen degree and solves the ridge regression\n",
    "        with the normal equations for all the lambdas in lambdas, performing a k-fold cross validation \n",
    "        to compute the rmse and the weights\"\"\"\n",
    "    \n",
    "    rmse_train=[]\n",
    "    rmse_test=[]\n",
    "    seed = 3\n",
    "\n",
    "    # Build indices to split data\n",
    "    k_indices = build_k_indices(yb, kfolds, seed)\n",
    "\n",
    "    # Define lists to store the loss of training data and test data\n",
    "    rmse_tr = []\n",
    "    rmse_te = []\n",
    "    std_tr = []\n",
    "    std_te = []\n",
    "    w_ridge = []\n",
    "    accuracy = []\n",
    "\n",
    "    # Loop over the lambdas\n",
    "    for lam in lambdas:\n",
    "        rmse_tr_k=[]\n",
    "        rmse_te_k=[]\n",
    "        w_ridge_lam = []\n",
    "        accuracy_lam = []\n",
    "        \n",
    "        # Build X matrix\n",
    "        data1 = build_poly(data, degree)\n",
    "    \n",
    "        # Loop over the folds\n",
    "        for k in range(kfolds):\n",
    "        \n",
    "            data_test, y_test, data_train, y_train = split_dataset(yb, data1, k, k_indices)   \n",
    "        \n",
    "            # Train the model\n",
    "            w_k, mse_k = ridge_regression(y_train, data_train, lam)\n",
    "            rmse_test = np.sqrt(2*compute_mse(y_test, data_test, w_k))\n",
    "            \n",
    "            # Do the prediction on the test set and compute accuracy\n",
    "            ypred = predict_labels(w_k, data_test)\n",
    "            acc_k = compute_accuracy(ypred, y_test)\n",
    "            \n",
    "            # Store rmse, weights and accuracy\n",
    "            rmse_tr_k.append(np.sqrt(2*mse_k))\n",
    "            rmse_te_k.append(rmse_test)\n",
    "            w_ridge_lam.append(w_k)\n",
    "            accuracy_lam.append(acc_k)\n",
    "        \n",
    "        # Append rmse (and std over the folds) in the lists\n",
    "        rmse_tr.append(np.mean(rmse_tr_k))\n",
    "        rmse_te.append(np.mean(rmse_te_k))\n",
    "        std_tr.append(np.std(rmse_tr_k))\n",
    "        std_te.append(np.std(rmse_te_k))\n",
    "        w_ridge.append(np.mean(w_ridge_lam, axis=0))\n",
    "        accuracy.append(np.mean(accuracy_lam))\n",
    "        \n",
    "\n",
    "    return rmse_tr, rmse_te, std_tr, std_te, w_ridge, accuracy"
   ]
  },
  {
   "cell_type": "code",
   "execution_count": 46,
   "metadata": {},
   "outputs": [],
   "source": [
    "def ridge_lambda_vis(lambdas, rmse_tr, rmse_te, std_train, std_test, acc, deg):\n",
    "    \"\"\"visualization of the curves of rmse_tr and rmse_te, and of the accuracy\"\"\"\n",
    "    \n",
    "    plt.figure(4, figsize=(16,5))\n",
    "    plt.subplot(1,2,1)\n",
    "    plt.semilogx(lambdas, rmse_tr, marker=\".\", color='b', label='Train error')\n",
    "    plt.semilogx(lambdas, rmse_te, marker=\".\", color='r', label='Test error')\n",
    "    #plt.errorbar(np.log10(lambdas), rmse_tr, std_train, label='Train error')\n",
    "    #plt.errorbar(np.log10(lambdas), rmse_te, std_test, label='Test error')\n",
    "    #plt.plot(lambdas, rmse_tr, marker=\".\", color='b', label='Train error')\n",
    "    #plt.plot(lambdas, rmse_te, marker=\".\", color='r', label='Test error')\n",
    "    plt.xlabel(\"Lambda\")\n",
    "    plt.ylabel(\"RMSE\")\n",
    "    plt.title(\"RMSE ridge regression with degree {ddd}\".format(ddd=deg))\n",
    "    plt.legend(loc=2)\n",
    "    plt.grid(True)\n",
    "    \n",
    "    plt.subplot(1,2,2)\n",
    "    plt.semilogx(lambdas, acc,  marker=\".\", color='b', label='Accuracy')\n",
    "    plt.xlabel(\"Lambda\")\n",
    "    plt.ylabel(\"Accuracy\")\n",
    "    plt.title(\"ACCURACY ridge regression with degree {ddd}\".format(ddd=deg))\n",
    "    plt.legend(loc=1)\n",
    "    plt.grid(True)"
   ]
  },
  {
   "cell_type": "code",
   "execution_count": 28,
   "metadata": {},
   "outputs": [
    {
     "data": {
      "image/png": "[encoded data removed]",
      "text/plain": [
       "<Figure size 1152x360 with 2 Axes>"
      ]
     },
     "metadata": {},
     "output_type": "display_data"
    }
   ],
   "source": [
    "degree = 4\n",
    "kfolds = 5\n",
    "lambdas = np.logspace(-6,1,30)\n",
    "\n",
    "rmse_ridge_train, rmse_ridge_test, std_train, std_test, w_ridge, accuracy = ridge_lambda(yb, data, kfolds, degree, lambdas)\n",
    "ridge_lambda_vis(lambdas, rmse_ridge_train, rmse_ridge_test, std_train, std_test, accuracy, degree)"
   ]
  },
  {
   "cell_type": "markdown",
   "metadata": {},
   "source": [
    "### Grid search.\n",
    "To find the best couple (lambda, degree): I run it on a subset of the data (to save computational time) and then on the whole matrix, and check the difference in the rmse test.\n",
    "\n",
    "1.Define ranges for lambda and degree.\n",
    "\n",
    "2.Loop over the degrees.\n",
    "\n",
    "3.Call the function ridge_lambda(). \n",
    "\n",
    "4.Save rmse test in a matrix: rows=degree, cols=lambdas.\n",
    "\n",
    "5.Get the minimum and the associated parameters."
   ]
  },
  {
   "cell_type": "code",
   "execution_count": 47,
   "metadata": {},
   "outputs": [],
   "source": [
    "# load a subset of the engineered data to save computational time\n",
    "yb_grid = yb[::25]\n",
    "data_grid = data[::25]\n",
    "ids_grid= ids[::25]"
   ]
  },
  {
   "cell_type": "code",
   "execution_count": 49,
   "metadata": {},
   "outputs": [
    {
     "name": "stdout",
     "output_type": "stream",
     "text": [
      "Minimum Test RMSE (on the subset): 0.8020850320897746\n",
      "Optimal degree: 2\n",
      "Optimal lambda: 0.0\n",
      "Maximum accuracy (on the subset): 0.8137000000000001\n",
      "Optimal degree: 12\n",
      "Optimal lambda: 0.0\n"
     ]
    }
   ],
   "source": [
    "# Define the range for the parameters \n",
    "degree_grid = range(1,15)\n",
    "lambdas_grid = np.linspace(0,1,50)\n",
    "kfolds = 5\n",
    "\n",
    "losses = np.zeros((len(degree_grid),len(lambdas_grid)))\n",
    "accuracies = np.zeros((len(degree_grid),len(lambdas_grid)))\n",
    "\n",
    "# Perform a grid search\n",
    "for i, deg in enumerate(degree_grid):\n",
    "        \n",
    "        rmse_ridge_train, rmse_ridge_test, std_train, std_test, w_ridge, acc = ridge_lambda(yb_grid, data_grid, kfolds, deg, lambdas_grid)\n",
    "        losses[i,:] = rmse_ridge_test\n",
    "        accuracies[i,:] = acc\n",
    "        \n",
    "min_rmse_test, deg_opt_err, lam_opt_err = get_best_rmse(lambdas_grid, degree_grid, losses)  \n",
    "max_accuracy, deg_opt_acc, lam_opt_acc = get_best_accuracy(lambdas_grid, degree_grid, accuracies)\n",
    "\n",
    "print('Minimum Test RMSE (on the subset): {rmse}'.format(rmse=min_rmse_test))\n",
    "print('Optimal degree: {d}'.format(d=deg_opt_err))\n",
    "print('Optimal lambda: {l}'.format(l=lam_opt_err))\n",
    "\n",
    "print('Maximum accuracy (on the subset): {acc}'.format(acc=max_accuracy))\n",
    "print('Optimal degree: {d}'.format(d=deg_opt_acc))\n",
    "print('Optimal lambda: {l}'.format(l=lam_opt_acc))"
   ]
  },
  {
   "cell_type": "code",
   "execution_count": null,
   "metadata": {},
   "outputs": [],
   "source": [
    "def get_worst_parameters(lam, deg, losses):\n",
    "    \"\"\"Get the best (lam, deg) from the result of grid search.\"\"\"\n",
    " \n",
    "    max_row, max_col = np.unravel_index(np.argmax(losses), losses.shape)\n",
    "    return losses[max_row, max_col], deg[max_row], lam[max_col]\n",
    "\n",
    "max_rmse, deg_wor, lam_wor = get_worst_parameters(lambdas_grid, degree_grid, losses)\n",
    "print('Maximum Test RMSE (on the subset): {rmse}'.format(rmse=max_rmse))\n",
    "print('Worst degree: {d}'.format(d=deg_wor))\n",
    "print('Worst lambda: {l}'.format(l=lam_wor))"
   ]
  },
  {
   "cell_type": "markdown",
   "metadata": {},
   "source": [
    "Now we try again with another subset of data and see the differences in the rmse."
   ]
  },
  {
   "cell_type": "code",
   "execution_count": 53,
   "metadata": {
    "scrolled": true
   },
   "outputs": [
    {
     "name": "stdout",
     "output_type": "stream",
     "text": [
      "Minimum Test RMSE (on the second subset): 0.7987709164142258\n",
      "Optimal degree: 3\n",
      "Optimal lambda: 0.0\n",
      "Maximum accuracy (on the second subset): 0.81068\n",
      "Optimal degree: 9\n",
      "Optimal lambda: 0.0\n"
     ]
    }
   ],
   "source": [
    "# load another subset of the engineered data to save computational time\n",
    "yb_grid1 = yb[::10]\n",
    "data_grid1 = data[::10]\n",
    "ids_grid1 = ids[::10]\n",
    "\n",
    "# Define the range for the parameters \n",
    "degree_grid = range(1,10)\n",
    "lambdas_grid = np.linspace(-1,2,40)\n",
    "kfolds = 5\n",
    "\n",
    "losses = np.zeros((len(degree_grid),len(lambdas_grid)))\n",
    "accuracies = np.zeros((len(degree_grid),len(lambdas_grid)))\n",
    "\n",
    "# Perform a grid search\n",
    "for i, deg in enumerate(degree_grid):\n",
    "        \n",
    "        rmse_ridge_train, rmse_ridge_test, std_train, std_test, w_ridge, acc = ridge_lambda(yb_grid1, data_grid1, kfolds, deg, lambdas_grid)\n",
    "        losses[i,:] = rmse_ridge_test\n",
    "        accuracies[i,:] = acc\n",
    "        \n",
    "min_rmse_test1, deg_opt1, lam_opt1 = get_best_rmse(lambdas_grid, degree_grid, losses)   \n",
    "max_accuracy1, deg_opt_acc1, lam_opt_acc1 = get_best_accuracy(lambdas_grid, degree_grid, accuracies)\n",
    "\n",
    "print('Minimum Test RMSE (on the second subset): {rmse}'.format(rmse=min_rmse_test1))\n",
    "print('Optimal degree: {d}'.format(d=deg_opt1))\n",
    "print('Optimal lambda: {l}'.format(l=lam_opt1))\n",
    "\n",
    "print('Maximum accuracy (on the second subset): {acc}'.format(acc=max_accuracy1))\n",
    "print('Optimal degree: {d}'.format(d=deg_opt_acc1))\n",
    "print('Optimal lambda: {l}'.format(l=lam_opt_acc1))"
   ]
  },
  {
   "cell_type": "markdown",
   "metadata": {},
   "source": [
    "... I tried different dimensions of the subset (to get the best parameters) and even the total dataset, since the computational time wasn't too high. In the end I decided to keep the optimal values obtained with the whole dataset and perform another cross validation (same seed and kfolds) in order to get the best weights and used them in the prediction. If I use different seeds and kfolds I get different values for the error at each try, so I decided to keep the same, in order to doublecheck the results."
   ]
  },
  {
   "cell_type": "code",
   "execution_count": 54,
   "metadata": {},
   "outputs": [
    {
     "name": "stdout",
     "output_type": "stream",
     "text": [
      "6\n",
      "Test RMSE: 34131199.85941365\n",
      "Train RMSE: 0.7620564160998674\n",
      "Accuracy: 0.8066249059984959\n"
     ]
    }
   ],
   "source": [
    "kfolds = 6\n",
    "\n",
    "rmse_train=[]\n",
    "rmse_test=[]\n",
    "seed = 2\n",
    "\n",
    "# Build indices to split data\n",
    "k_indices = build_k_indices(yb, kfolds, seed)\n",
    "\n",
    "# Define lists to store the loss of training data and test data\n",
    "rmse_opt_tr = []\n",
    "rmse_opt_te = []\n",
    "w_opt_ridge_list = []\n",
    "acc_opt = []\n",
    "\n",
    "# Build X matrix\n",
    "data1 = build_poly(data, deg_opt_acc1)\n",
    "\n",
    "# Loop over the folds\n",
    "for k in range(kfolds):\n",
    "    \n",
    "    data_test, y_test, data_train, y_train = split_dataset(yb, data1, k, k_indices)   \n",
    "        \n",
    "    # Train the model\n",
    "    w_k, mse_k = ridge_regression(y_train, data_train, lam_opt_acc1)\n",
    "    rmse_test = np.sqrt(2*compute_mse(y_test, data_test, w_k))\n",
    "    \n",
    "    # Do the prediction on the test set and compute accuracy\n",
    "    ypred = predict_labels(w_k, data_test)\n",
    "    acc_k = compute_accuracy(ypred, y_test)\n",
    "            \n",
    "    # Store rmse and weights\n",
    "    rmse_opt_tr.append(np.sqrt(2*mse_k))\n",
    "    rmse_opt_te.append(rmse_test)\n",
    "    w_opt_ridge_list.append(w_k)\n",
    "    acc_opt.append(acc_k)\n",
    "    \n",
    "# Get the best weights and the errors\n",
    "w_opt_ridge = np.mean(w_opt_ridge_list, axis=0)\n",
    "\n",
    "print('Test RMSE: {te}'.format(te=np.mean(rmse_opt_te)))\n",
    "print('Train RMSE: {tr}'.format(tr=np.mean(rmse_opt_tr)))\n",
    "print('Accuracy: {acc}'.format(acc=np.mean(acc_opt)))"
   ]
  },
  {
   "cell_type": "markdown",
   "metadata": {},
   "source": [
    "RMSE values with deg=2 and lambda=0.0011937766417144358, subset 1:25 :\n",
    "Train RMSE: 0.8014915854773715\n",
    "Test RMSE: 0.8305541106371641\n",
    "\n",
    "RMSE values with deg=3 and lambda=0.007038135554931562, subset 1:20 :\n",
    "Train RMSE: 0.793285618340946\n",
    "Test RMSE: 1.3284903246013344\n",
    "\n",
    "RMSE values with deg=2 and lambda=0.0002894266124716752, subset 1:15 :\n",
    "Train RMSE: 0.801442221422809\n",
    "Test RMSE: 0.8276588788503378\n",
    "\n",
    "RMSE values with deg=4 and lambda=0.08376776400682924, subset 1:10 :\n",
    "Train RMSE: 0.7945378819037896\n",
    "Test RMSE: 17.95365044601708\n",
    "\n",
    "RMSE values with deg=3 and lambda=0.11689518164985777, whole dataset:\n",
    "Train RMSE: 0.8013123911573933\n",
    "Test RMSE: 0.8075341744448667"
   ]
  },
  {
   "cell_type": "code",
   "execution_count": 55,
   "metadata": {},
   "outputs": [
    {
     "name": "stdout",
     "output_type": "stream",
     "text": [
      "(568238, 208)\n"
     ]
    }
   ],
   "source": [
    "# Let's try a submission!!! %---the last one was with the accuracy---%\n",
    "data_path_sub = \"datasets/test.csv\"\n",
    "yb_sub, input_data_sub, ids_sub = load_csv_data(data_path_sub, sub_sample=False)\n",
    "\n",
    "#preparing the matrix\n",
    "cleansubx = input_data_sub\n",
    "cleansubx[np.where(cleansubx == -999)] = 0\n",
    "means_by_columns = np.mean(cleansubx, axis=0)\n",
    "\n",
    "for i in range(30):\n",
    "    input_data_sub[:,np.where(input_data_sub[:,i]==-999)] = means_by_columns[i]\n",
    "    \n",
    "input_data_sub = standardize(input_data_sub)\n",
    "data_sub = np.delete(input_data_sub,[5,9,12,21,22,23,29],1)\n",
    "\n",
    "data_sub1 = build_poly(data_sub, deg_opt_acc1)\n",
    "print(data_sub1.shape)\n"
   ]
  },
  {
   "cell_type": "code",
   "execution_count": 56,
   "metadata": {},
   "outputs": [
    {
     "name": "stdout",
     "output_type": "stream",
     "text": [
      "(208,)\n"
     ]
    }
   ],
   "source": [
    "print(w_opt_ridge.shape)\n",
    "ypred = predict_labels(w_opt_ridge, data_sub1)\n",
    "create_csv_submission(ids_sub,ypred,'ridgeaccuracy.csv')"
   ]
  },
  {
   "cell_type": "markdown",
   "metadata": {},
   "source": [
    "## Logistic regression"
   ]
  },
  {
   "cell_type": "code",
   "execution_count": 31,
   "metadata": {},
   "outputs": [
    {
     "name": "stdout",
     "output_type": "stream",
     "text": [
      "Current iteration=50, loss=88.03719311083648, shape_w=(23,), shape_grad=(23,)\n",
      "Current iteration=100, loss=-1.69894453644838, shape_w=(23,), shape_grad=(23,)\n",
      "Current iteration=150, loss=-63.55213037600356, shape_w=(23,), shape_grad=(23,)\n",
      "Current iteration=200, loss=-114.00903623811746, shape_w=(23,), shape_grad=(23,)\n",
      "Current iteration=250, loss=-158.24947263082584, shape_w=(23,), shape_grad=(23,)\n",
      "Current iteration=300, loss=-198.5982176998766, shape_w=(23,), shape_grad=(23,)\n",
      "Current iteration=350, loss=-236.30555224377895, shape_w=(23,), shape_grad=(23,)\n",
      "Current iteration=400, loss=-272.12072430339913, shape_w=(23,), shape_grad=(23,)\n",
      "Current iteration=450, loss=-306.5263270396049, shape_w=(23,), shape_grad=(23,)\n",
      "Current iteration=500, loss=-339.8498058729581, shape_w=(23,), shape_grad=(23,)\n",
      "Current iteration=550, loss=-372.3223283916459, shape_w=(23,), shape_grad=(23,)\n",
      "Current iteration=600, loss=-404.1123068911845, shape_w=(23,), shape_grad=(23,)\n",
      "Current iteration=650, loss=-435.3456233577249, shape_w=(23,), shape_grad=(23,)\n",
      "Current iteration=700, loss=-466.11840580468174, shape_w=(23,), shape_grad=(23,)\n",
      "Current iteration=750, loss=-496.50540885770306, shape_w=(23,), shape_grad=(23,)\n",
      "Current iteration=800, loss=-526.5656867243813, shape_w=(23,), shape_grad=(23,)\n",
      "Current iteration=850, loss=-556.3465372557926, shape_w=(23,), shape_grad=(23,)\n",
      "Current iteration=900, loss=-585.8863075653037, shape_w=(23,), shape_grad=(23,)\n",
      "Current iteration=950, loss=-615.2164298275061, shape_w=(23,), shape_grad=(23,)\n",
      "Current iteration=1000, loss=-644.3629243336954, shape_w=(23,), shape_grad=(23,)\n",
      "Current iteration=1050, loss=-673.3475263128284, shape_w=(23,), shape_grad=(23,)\n",
      "Current iteration=1100, loss=-702.1885422517726, shape_w=(23,), shape_grad=(23,)\n",
      "Current iteration=1150, loss=-730.9015086246627, shape_w=(23,), shape_grad=(23,)\n",
      "Current iteration=1200, loss=-759.4997042329596, shape_w=(23,), shape_grad=(23,)\n",
      "Current iteration=1250, loss=-787.9945527044251, shape_w=(23,), shape_grad=(23,)\n",
      "Current iteration=1300, loss=-816.3959416241378, shape_w=(23,), shape_grad=(23,)\n",
      "Current iteration=1350, loss=-844.7124777273452, shape_w=(23,), shape_grad=(23,)\n",
      "Current iteration=1400, loss=-872.9516925856819, shape_w=(23,), shape_grad=(23,)\n",
      "Current iteration=1450, loss=-901.1202096225206, shape_w=(23,), shape_grad=(23,)\n",
      "Current iteration=1500, loss=-929.2238806743671, shape_w=(23,), shape_grad=(23,)\n",
      "Current iteration=1550, loss=-957.267898386142, shape_w=(23,), shape_grad=(23,)\n",
      "Current iteration=1600, loss=-985.2568892925874, shape_w=(23,), shape_grad=(23,)\n",
      "Current iteration=1650, loss=-1013.1949913594699, shape_w=(23,), shape_grad=(23,)\n",
      "Current iteration=1700, loss=-1041.085918940887, shape_w=(23,), shape_grad=(23,)\n",
      "Current iteration=1750, loss=-1068.9330174845318, shape_w=(23,), shape_grad=(23,)\n",
      "Current iteration=1800, loss=-1096.7393098361467, shape_w=(23,), shape_grad=(23,)\n",
      "Current iteration=1850, loss=-1124.5075356218858, shape_w=(23,), shape_grad=(23,)\n",
      "Current iteration=1900, loss=-1152.2401848966424, shape_w=(23,), shape_grad=(23,)\n",
      "Current iteration=1950, loss=-1179.9395270183031, shape_w=(23,), shape_grad=(23,)\n",
      "Current iteration=2000, loss=-1207.6076355276937, shape_w=(23,), shape_grad=(23,)\n",
      "Current iteration=2050, loss=-1235.246409670991, shape_w=(23,), shape_grad=(23,)\n",
      "Current iteration=2100, loss=-1262.8575930871493, shape_w=(23,), shape_grad=(23,)\n",
      "Current iteration=2150, loss=-1290.4427900912897, shape_w=(23,), shape_grad=(23,)\n",
      "Current iteration=2200, loss=-1318.0034799110954, shape_w=(23,), shape_grad=(23,)\n",
      "Current iteration=2250, loss=-1345.5410291734051, shape_w=(23,), shape_grad=(23,)\n",
      "Current iteration=2300, loss=-1373.0567028894302, shape_w=(23,), shape_grad=(23,)\n",
      "Current iteration=2350, loss=-1400.5516741471347, shape_w=(23,), shape_grad=(23,)\n",
      "Current iteration=2400, loss=-1428.027032686654, shape_w=(23,), shape_grad=(23,)\n",
      "Current iteration=2450, loss=-1455.4837925074244, shape_w=(23,), shape_grad=(23,)\n",
      "Current iteration=2500, loss=-1482.9228986335147, shape_w=(23,), shape_grad=(23,)\n",
      "Current iteration=2550, loss=-1510.345233144857, shape_w=(23,), shape_grad=(23,)\n",
      "Current iteration=2600, loss=-1537.7516205665415, shape_w=(23,), shape_grad=(23,)\n",
      "Current iteration=2650, loss=-1565.1428326953182, shape_w=(23,), shape_grad=(23,)\n",
      "Current iteration=2700, loss=-1592.519592931434, shape_w=(23,), shape_grad=(23,)\n",
      "Current iteration=2750, loss=-1619.882580174586, shape_w=(23,), shape_grad=(23,)\n",
      "Current iteration=2800, loss=-1647.2324323350222, shape_w=(23,), shape_grad=(23,)\n",
      "Current iteration=2850, loss=-1674.5697495039667, shape_w=(23,), shape_grad=(23,)\n",
      "Current iteration=2900, loss=-1701.895096821916, shape_w=(23,), shape_grad=(23,)\n",
      "Current iteration=2950, loss=-1729.2090070784398, shape_w=(23,), shape_grad=(23,)\n",
      "Current iteration=3000, loss=-1756.5119830729018, shape_w=(23,), shape_grad=(23,)\n",
      "Current iteration=3050, loss=-1783.804499761858, shape_w=(23,), shape_grad=(23,)\n",
      "Current iteration=3100, loss=-1811.087006215802, shape_w=(23,), shape_grad=(23,)\n",
      "Current iteration=3150, loss=-1838.359927405243, shape_w=(23,), shape_grad=(23,)\n",
      "Current iteration=3200, loss=-1865.6236658336338, shape_w=(23,), shape_grad=(23,)\n",
      "Current iteration=3250, loss=-1892.878603032751, shape_w=(23,), shape_grad=(23,)\n",
      "Current iteration=3300, loss=-1920.1251009342905, shape_w=(23,), shape_grad=(23,)\n",
      "Current iteration=3350, loss=-1947.3635031298172, shape_w=(23,), shape_grad=(23,)\n",
      "Current iteration=3400, loss=-1974.5941360299857, shape_w=(23,), shape_grad=(23,)\n",
      "Current iteration=3450, loss=-2001.817309932635, shape_w=(23,), shape_grad=(23,)\n",
      "Current iteration=3500, loss=-2029.0333200083433, shape_w=(23,), shape_grad=(23,)\n",
      "Current iteration=3550, loss=-2056.2424472111034, shape_w=(23,), shape_grad=(23,)\n",
      "Current iteration=3600, loss=-2083.4449591210205, shape_w=(23,), shape_grad=(23,)\n",
      "Current iteration=3650, loss=-2110.6411107250924, shape_w=(23,), shape_grad=(23,)\n",
      "Current iteration=3700, loss=-2137.831145141603, shape_w=(23,), shape_grad=(23,)\n",
      "Current iteration=3750, loss=-2165.0152942930617, shape_w=(23,), shape_grad=(23,)\n",
      "Current iteration=3800, loss=-2192.193779532141, shape_w=(23,), shape_grad=(23,)\n",
      "Current iteration=3850, loss=-2219.3668122245244, shape_w=(23,), shape_grad=(23,)\n",
      "Current iteration=3900, loss=-2246.5345942923586, shape_w=(23,), shape_grad=(23,)\n",
      "Current iteration=3950, loss=-2273.6973187214953, shape_w=(23,), shape_grad=(23,)\n",
      "Current iteration=4000, loss=-2300.8551700354474, shape_w=(23,), shape_grad=(23,)\n",
      "Current iteration=4050, loss=-2328.0083247387556, shape_w=(23,), shape_grad=(23,)\n",
      "Current iteration=4100, loss=-2355.156951732166, shape_w=(23,), shape_grad=(23,)\n",
      "Current iteration=4150, loss=-2382.3012127017237, shape_w=(23,), shape_grad=(23,)\n",
      "Current iteration=4200, loss=-2409.4412624838697, shape_w=(23,), shape_grad=(23,)\n",
      "Current iteration=4250, loss=-2436.5772494082976, shape_w=(23,), shape_grad=(23,)\n",
      "Current iteration=4300, loss=-2463.7093156201863, shape_w=(23,), shape_grad=(23,)\n",
      "Current iteration=4350, loss=-2490.8375973833326, shape_w=(23,), shape_grad=(23,)\n",
      "Current iteration=4400, loss=-2517.962225365598, shape_w=(23,), shape_grad=(23,)\n",
      "Current iteration=4450, loss=-2545.083324907835, shape_w=(23,), shape_grad=(23,)\n",
      "Current iteration=4500, loss=-2572.2010162774523, shape_w=(23,), shape_grad=(23,)\n",
      "Current iteration=4550, loss=-2599.3154149077864, shape_w=(23,), shape_grad=(23,)\n",
      "Current iteration=4600, loss=-2626.426631624089, shape_w=(23,), shape_grad=(23,)\n",
      "Current iteration=4650, loss=-2653.5347728570932, shape_w=(23,), shape_grad=(23,)\n",
      "Current iteration=4700, loss=-2680.639940844969, shape_w=(23,), shape_grad=(23,)\n",
      "Current iteration=4750, loss=-2707.7422338244487, shape_w=(23,), shape_grad=(23,)\n",
      "Current iteration=4800, loss=-2734.841746211727, shape_w=(23,), shape_grad=(23,)\n",
      "Current iteration=4850, loss=-2761.938568773894, shape_w=(23,), shape_grad=(23,)\n",
      "Current iteration=4900, loss=-2789.032788791379, shape_w=(23,), shape_grad=(23,)\n",
      "Current iteration=4950, loss=-2816.124490212065, shape_w=(23,), shape_grad=(23,)\n",
      "Current iteration=5000, loss=-2843.2137537974977, shape_w=(23,), shape_grad=(23,)\n",
      "Current iteration=5050, loss=-2870.300657261667, shape_w=(23,), shape_grad=(23,)\n"
     ]
    },
    {
     "name": "stdout",
     "output_type": "stream",
     "text": [
      "Current iteration=5100, loss=-2897.385275402912, shape_w=(23,), shape_grad=(23,)\n",
      "Current iteration=5150, loss=-2924.467680229138, shape_w=(23,), shape_grad=(23,)\n",
      "Current iteration=5200, loss=-2951.547941076973, shape_w=(23,), shape_grad=(23,)\n",
      "Current iteration=5250, loss=-2978.6261247250404, shape_w=(23,), shape_grad=(23,)\n",
      "Current iteration=5300, loss=-3005.70229550178, shape_w=(23,), shape_grad=(23,)\n",
      "Current iteration=5350, loss=-3032.7765153880173, shape_w=(23,), shape_grad=(23,)\n",
      "Current iteration=5400, loss=-3059.848844114691, shape_w=(23,), shape_grad=(23,)\n",
      "Current iteration=5450, loss=-3086.9193392559555, shape_w=(23,), shape_grad=(23,)\n",
      "Current iteration=5500, loss=-3113.988056317852, shape_w=(23,), shape_grad=(23,)\n",
      "Current iteration=5550, loss=-3141.0550488229037, shape_w=(23,), shape_grad=(23,)\n",
      "Current iteration=5600, loss=-3168.120368390746, shape_w=(23,), shape_grad=(23,)\n",
      "Current iteration=5650, loss=-3195.184064815061, shape_w=(23,), shape_grad=(23,)\n",
      "Current iteration=5700, loss=-3222.2461861369993, shape_w=(23,), shape_grad=(23,)\n",
      "Current iteration=5750, loss=-3249.306778715267, shape_w=(23,), shape_grad=(23,)\n",
      "Current iteration=5800, loss=-3276.3658872930027, shape_w=(23,), shape_grad=(23,)\n",
      "Current iteration=5850, loss=-3303.4235550617777, shape_w=(23,), shape_grad=(23,)\n",
      "Current iteration=5900, loss=-3330.479823722584, shape_w=(23,), shape_grad=(23,)\n",
      "Current iteration=5950, loss=-3357.5347335442566, shape_w=(23,), shape_grad=(23,)\n",
      "Current iteration=6000, loss=-3384.588323419235, shape_w=(23,), shape_grad=(23,)\n",
      "Current iteration=6050, loss=-3411.6406309169543, shape_w=(23,), shape_grad=(23,)\n",
      "Current iteration=6100, loss=-3438.6916923348253, shape_w=(23,), shape_grad=(23,)\n",
      "Current iteration=6150, loss=-3465.7415427471497, shape_w=(23,), shape_grad=(23,)\n",
      "Current iteration=6200, loss=-3492.790216051755, shape_w=(23,), shape_grad=(23,)\n",
      "Current iteration=6250, loss=-3519.8377450147855, shape_w=(23,), shape_grad=(23,)\n",
      "Current iteration=6300, loss=-3546.884161313492, shape_w=(23,), shape_grad=(23,)\n",
      "Current iteration=6350, loss=-3573.9294955772766, shape_w=(23,), shape_grad=(23,)\n",
      "Current iteration=6400, loss=-3600.973777426956, shape_w=(23,), shape_grad=(23,)\n",
      "Current iteration=6450, loss=-3628.017035512423, shape_w=(23,), shape_grad=(23,)\n",
      "Current iteration=6500, loss=-3655.0592975487034, shape_w=(23,), shape_grad=(23,)\n",
      "Current iteration=6550, loss=-3682.1005903505556, shape_w=(23,), shape_grad=(23,)\n",
      "Current iteration=6600, loss=-3709.140939865618, shape_w=(23,), shape_grad=(23,)\n",
      "Current iteration=6650, loss=-3736.1803712061883, shape_w=(23,), shape_grad=(23,)\n",
      "Current iteration=6700, loss=-3763.2189086797607, shape_w=(23,), shape_grad=(23,)\n",
      "Current iteration=6750, loss=-3790.2565758182336, shape_w=(23,), shape_grad=(23,)\n",
      "Current iteration=6800, loss=-3817.293395406032, shape_w=(23,), shape_grad=(23,)\n",
      "Current iteration=6850, loss=-3844.3293895069983, shape_w=(23,), shape_grad=(23,)\n",
      "Current iteration=6900, loss=-3871.3645794903205, shape_w=(23,), shape_grad=(23,)\n",
      "Current iteration=6950, loss=-3898.398986055312, shape_w=(23,), shape_grad=(23,)\n",
      "Current iteration=7000, loss=-3925.432629255294, shape_w=(23,), shape_grad=(23,)\n",
      "Current iteration=7050, loss=-3952.4655285204717, shape_w=(23,), shape_grad=(23,)\n",
      "Current iteration=7100, loss=-3979.4977026799843, shape_w=(23,), shape_grad=(23,)\n",
      "Current iteration=7150, loss=-4006.5291699830013, shape_w=(23,), shape_grad=(23,)\n",
      "Current iteration=7200, loss=-4033.5599481190548, shape_w=(23,), shape_grad=(23,)\n",
      "Current iteration=7250, loss=-4060.5900542375966, shape_w=(23,), shape_grad=(23,)\n",
      "Current iteration=7300, loss=-4087.619504966733, shape_w=(23,), shape_grad=(23,)\n",
      "Current iteration=7350, loss=-4114.648316431296, shape_w=(23,), shape_grad=(23,)\n",
      "Current iteration=7400, loss=-4141.676504270188, shape_w=(23,), shape_grad=(23,)\n",
      "Current iteration=7450, loss=-4168.704083653123, shape_w=(23,), shape_grad=(23,)\n",
      "Current iteration=7500, loss=-4195.731069296609, shape_w=(23,), shape_grad=(23,)\n",
      "Current iteration=7550, loss=-4222.7574754794805, shape_w=(23,), shape_grad=(23,)\n",
      "Current iteration=7600, loss=-4249.78331605771, shape_w=(23,), shape_grad=(23,)\n",
      "Current iteration=7650, loss=-4276.8086044787415, shape_w=(23,), shape_grad=(23,)\n",
      "Current iteration=7700, loss=-4303.833353795268, shape_w=(23,), shape_grad=(23,)\n",
      "Current iteration=7750, loss=-4330.857576678489, shape_w=(23,), shape_grad=(23,)\n",
      "Current iteration=7800, loss=-4357.881285430889, shape_w=(23,), shape_grad=(23,)\n",
      "Current iteration=7850, loss=-4384.904491998483, shape_w=(23,), shape_grad=(23,)\n",
      "Current iteration=7900, loss=-4411.927207982724, shape_w=(23,), shape_grad=(23,)\n",
      "Current iteration=7950, loss=-4438.949444651871, shape_w=(23,), shape_grad=(23,)\n",
      "Current iteration=8000, loss=-4465.971212952001, shape_w=(23,), shape_grad=(23,)\n",
      "Current iteration=8050, loss=-4492.9925235175415, shape_w=(23,), shape_grad=(23,)\n",
      "Current iteration=8100, loss=-4520.013386681563, shape_w=(23,), shape_grad=(23,)\n",
      "Current iteration=8150, loss=-4547.033812485513, shape_w=(23,), shape_grad=(23,)\n",
      "Current iteration=8200, loss=-4574.053810688787, shape_w=(23,), shape_grad=(23,)\n",
      "Current iteration=8250, loss=-4601.073390777783, shape_w=(23,), shape_grad=(23,)\n",
      "Current iteration=8300, loss=-4628.092561974769, shape_w=(23,), shape_grad=(23,)\n",
      "Current iteration=8350, loss=-4655.11133324635, shape_w=(23,), shape_grad=(23,)\n",
      "Current iteration=8400, loss=-4682.129713311657, shape_w=(23,), shape_grad=(23,)\n",
      "Current iteration=8450, loss=-4709.147710650272, shape_w=(23,), shape_grad=(23,)\n",
      "Current iteration=8500, loss=-4736.165333509796, shape_w=(23,), shape_grad=(23,)\n",
      "Current iteration=8550, loss=-4763.182589913295, shape_w=(23,), shape_grad=(23,)\n",
      "Current iteration=8600, loss=-4790.199487666272, shape_w=(23,), shape_grad=(23,)\n",
      "Current iteration=8650, loss=-4817.216034363628, shape_w=(23,), shape_grad=(23,)\n",
      "Current iteration=8700, loss=-4844.232237396176, shape_w=(23,), shape_grad=(23,)\n",
      "Current iteration=8750, loss=-4871.248103957074, shape_w=(23,), shape_grad=(23,)\n",
      "Current iteration=8800, loss=-4898.263641047948, shape_w=(23,), shape_grad=(23,)\n",
      "Current iteration=8850, loss=-4925.278855484876, shape_w=(23,), shape_grad=(23,)\n",
      "Current iteration=8900, loss=-4952.293753904034, shape_w=(23,), shape_grad=(23,)\n",
      "Current iteration=8950, loss=-4979.30834276737, shape_w=(23,), shape_grad=(23,)\n",
      "Current iteration=9000, loss=-5006.322628367825, shape_w=(23,), shape_grad=(23,)\n",
      "Current iteration=9050, loss=-5033.336616834553, shape_w=(23,), shape_grad=(23,)\n",
      "Current iteration=9100, loss=-5060.350314137942, shape_w=(23,), shape_grad=(23,)\n",
      "Current iteration=9150, loss=-5087.363726094365, shape_w=(23,), shape_grad=(23,)\n",
      "Current iteration=9200, loss=-5114.376858370895, shape_w=(23,), shape_grad=(23,)\n",
      "Current iteration=9250, loss=-5141.389716489783, shape_w=(23,), shape_grad=(23,)\n",
      "Current iteration=9300, loss=-5168.4023058328, shape_w=(23,), shape_grad=(23,)\n",
      "Current iteration=9350, loss=-5195.4146316454335, shape_w=(23,), shape_grad=(23,)\n",
      "Current iteration=9400, loss=-5222.426699041005, shape_w=(23,), shape_grad=(23,)\n",
      "Current iteration=9450, loss=-5249.438513004479, shape_w=(23,), shape_grad=(23,)\n",
      "Current iteration=9500, loss=-5276.4500783963995, shape_w=(23,), shape_grad=(23,)\n",
      "Current iteration=9550, loss=-5303.461399956463, shape_w=(23,), shape_grad=(23,)\n",
      "Current iteration=9600, loss=-5330.472482307085, shape_w=(23,), shape_grad=(23,)\n",
      "Current iteration=9650, loss=-5357.483329956851, shape_w=(23,), shape_grad=(23,)\n",
      "Current iteration=9700, loss=-5384.493947303843, shape_w=(23,), shape_grad=(23,)\n",
      "Current iteration=9750, loss=-5411.50433863877, shape_w=(23,), shape_grad=(23,)\n",
      "Current iteration=9800, loss=-5438.514508148201, shape_w=(23,), shape_grad=(23,)\n",
      "Current iteration=9850, loss=-5465.524459917462, shape_w=(23,), shape_grad=(23,)\n",
      "Current iteration=9900, loss=-5492.534197933568, shape_w=(23,), shape_grad=(23,)\n",
      "Current iteration=9950, loss=-5519.543726088075, shape_w=(23,), shape_grad=(23,)\n",
      "Current iteration=10000, loss=-5546.5530481797505, shape_w=(23,), shape_grad=(23,)\n"
     ]
    }
   ],
   "source": [
    "dataprova = data[::10]\n",
    "ybprova = yb[::10]\n",
    "ids = ids[::10]\n",
    "\n",
    "maxit = 10000\n",
    "initial_w = np.zeros(data.shape[1])\n",
    "gamma = 0.0001\n",
    "\n",
    "w, loss = logistic_regression(ybprova, dataprova, initial_w, maxit, gamma)"
   ]
  },
  {
   "cell_type": "code",
   "execution_count": null,
   "metadata": {},
   "outputs": [],
   "source": []
  }
 ],
 "metadata": {
  "kernelspec": {
   "display_name": "Python 3",
   "language": "python",
   "name": "python3"
  },
  "language_info": {
   "codemirror_mode": {
    "name": "ipython",
    "version": 3
   },
   "file_extension": ".py",
   "mimetype": "text/x-python",
   "name": "python",
   "nbconvert_exporter": "python",
   "pygments_lexer": "ipython3",
   "version": "3.6.5"
  }
 },
 "nbformat": 4,
 "nbformat_minor": 2
}

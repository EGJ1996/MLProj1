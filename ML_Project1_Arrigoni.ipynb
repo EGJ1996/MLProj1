{
 "cells": [
  {
   "cell_type": "markdown",
   "metadata": {},
   "source": [
    "# Machine learning Project 1 : Higgs Boson"
   ]
  },
  {
   "cell_type": "code",
   "execution_count": 1,
   "metadata": {},
   "outputs": [],
   "source": [
    "# Useful starting lines\n",
    "%matplotlib inline\n",
    "import numpy as np\n",
    "import matplotlib.pyplot as plt\n",
    "\n",
    "%load_ext autoreload\n",
    "%autoreload 2"
   ]
  },
  {
   "cell_type": "code",
   "execution_count": 3,
   "metadata": {},
   "outputs": [],
   "source": [
    "from proj1_helpers import *\n",
    "from implementations import *\n",
    "from myhelpers import *\n",
    "\n",
    "data_path = \"datasets/train.csv\"\n",
    "yb, input_data, ids = load_csv_data(data_path, sub_sample=True)"
   ]
  },
  {
   "cell_type": "markdown",
   "metadata": {},
   "source": [
    "### Clean data \n",
    "We set to 0 the invalid values and standardize the data by columns in order to deal with dimensionless variables that span more or less the same range"
   ]
  },
  {
   "cell_type": "code",
   "execution_count": 4,
   "metadata": {},
   "outputs": [],
   "source": [
    "cleansubx = input_data\n",
    "cleansubx[np.where(cleansubx == -999)] = 0\n",
    "means_by_columns = np.mean(cleansubx, axis=0)\n",
    "\n",
    "for i in range(30):\n",
    "    input_data[:,np.where(input_data[:,i]==-999)] = means_by_columns[i]\n",
    "    \n",
    "input_data = standardize(input_data)\n",
    "rows, cols = input_data.shape[0], input_data.shape[1]"
   ]
  },
  {
   "cell_type": "markdown",
   "metadata": {},
   "source": [
    "Correlation coefficients of the features, to understand if they are linearly correlated"
   ]
  },
  {
   "cell_type": "code",
   "execution_count": null,
   "metadata": {},
   "outputs": [],
   "source": [
    "cor_matrix = np.corrcoef(input_data.T)\n",
    "\n",
    "plt.figure(1, figsize=(12,12))\n",
    "plt.matshow(np.abs(cor_matrix),1)\n",
    "plt.xticks(range(cols), range(cols))\n",
    "plt.yticks(range(cols), range(cols))\n",
    "plt.colorbar()\n",
    "plt.savefig('correlation_matrix'+'.png')"
   ]
  },
  {
   "cell_type": "markdown",
   "metadata": {},
   "source": [
    "We decide to leave out columns 5, 9, 12, 21, 22, 23, 29 due to the high correlation with the others."
   ]
  },
  {
   "cell_type": "code",
   "execution_count": 5,
   "metadata": {
    "scrolled": true
   },
   "outputs": [
    {
     "data": {
      "image/png": "[encoded data removed]",
      "text/plain": [
       "<Figure size 864x864 with 2 Axes>"
      ]
     },
     "metadata": {},
     "output_type": "display_data"
    }
   ],
   "source": [
    "data = np.delete(input_data,[5,9,12,21,22,23,29],1)\n",
    "\n",
    "#Compute again the correlation and check\n",
    "cor_matrix = np.corrcoef(data.T)\n",
    "plt.figure(2, figsize=(12,12))\n",
    "plt.matshow(np.abs(cor_matrix),2)\n",
    "plt.xticks(range(23), range(23))\n",
    "plt.yticks(range(23), range(23))\n",
    "plt.colorbar()\n",
    "plt.savefig('correlation_new'+'.png')"
   ]
  },
  {
   "cell_type": "markdown",
   "metadata": {},
   "source": [
    "# Fitting a linear model\n",
    "First of all we fit our linear model on the subset of data, and then use the whole train dataset to test it, at least at the beginning. In the end we will use the whole dataset to train the model. We try with 5 polynomial degrees per feature, otherwise the number of features becomes too large.\n",
    "Compare the mse and the computational time of the 3 methods to get the least squares solution: the first one is the correct one, but maybe the others are faster.\n",
    "\n",
    "\n",
    "1.Linear regression with mse and normal equations\n",
    "\n",
    "\n",
    "2.Linear regression with mse and gradient descent\n",
    "\n",
    "\n",
    "3.Linear regression with mse and stochastic gradient descent\n",
    "\n"
   ]
  },
  {
   "cell_type": "code",
   "execution_count": null,
   "metadata": {},
   "outputs": [],
   "source": [
    "# Function that builds a polynomial basis of the chosen degree for a column \n",
    "def build_poly_col(x, degree):\n",
    "    \"\"\"polynomial basis functions for input column x, for j=1 up to j=degree.\"\"\"\n",
    "    \n",
    "    y = x\n",
    "        \n",
    "    for n in range(2,degree+1):\n",
    "        x = np.c_[x, np.power(y,n)]\n",
    "            \n",
    "    return x\n",
    "\n",
    "# Function that builds a polynomial basis for the data (each column has the same degree)\n",
    "def build_poly(data, degree):\n",
    "    \"\"\"polynomial basis for input data up to the chosen degree in each column\"\"\"\n",
    "    \n",
    "    X = np.c_[np.ones(data.shape[0])]\n",
    "    for j in range(data.shape[1]):\n",
    "        x_col = build_poly_col(data[:,j], degree)\n",
    "        X = np.c_[X, x_col]\n",
    "        \n",
    "    return X\n"
   ]
  },
  {
   "cell_type": "code",
   "execution_count": null,
   "metadata": {},
   "outputs": [],
   "source": [
    "# Functions to build the indices and split the data to perform cross validation\n",
    "\n",
    "def build_k_indices(y, k_fold, seed):\n",
    "    \"\"\"build k indices for k-fold.\"\"\"\n",
    "    \n",
    "    num_row = y.shape[0]\n",
    "    interval = int(num_row / k_fold)\n",
    "    np.random.seed(seed)\n",
    "    indices = np.random.permutation(num_row)\n",
    "    k_indices = [indices[k * interval: (k + 1) * interval]\n",
    "                 for k in range(k_fold)]\n",
    "    return np.array(k_indices)\n",
    "\n",
    "\n",
    "def split_dataset(y, x, k, k_indices):\n",
    "    \"\"\"Returns the matrices and vectors Test and Train used in a k-fold cross validation\"\"\"\n",
    "    \n",
    "    # get k'th subgroup in test, others in train.\n",
    "    X_test = x[k_indices[k]]\n",
    "    y_test = y[k_indices[k]]\n",
    "    X_train = np.delete(x,k_indices[k],0)\n",
    "    y_train = np.delete(y,k_indices[k])\n",
    "    \n",
    "    return X_test, y_test, X_train, y_train\n"
   ]
  },
  {
   "cell_type": "code",
   "execution_count": null,
   "metadata": {},
   "outputs": [],
   "source": [
    "\n",
    "def ls_polynomial_basis(yb, data, kfolds, degrees):\n",
    "    \"\"\"Builds a polynomial basis according to the chosen degree and solves the least squares problem\n",
    "        with the normal equations, performing a k-fold cross validation to compute the rmse and the weights\"\"\"\n",
    "    \n",
    "    rmse_train=[]\n",
    "    rmse_test=[]\n",
    "    seed = 2\n",
    "\n",
    "    # Build indices to split data\n",
    "    k_indices = build_k_indices(yb, kfolds, seed)\n",
    "\n",
    "    # Define lists to store the loss of training data and test data\n",
    "    rmse_tr = []\n",
    "    rmse_te = []\n",
    "    std_tr = []\n",
    "    std_te = []\n",
    "    w_ls = []\n",
    "\n",
    "    # Choose the degrees and loop over them\n",
    "    for degree in degrees:\n",
    "        rmse_tr_k=[]\n",
    "        rmse_te_k=[]\n",
    "        w_ls_deg = []\n",
    "    \n",
    "        # Build X matrix\n",
    "        data1 = build_poly(data, degree)\n",
    "    \n",
    "        # Loop over the folds\n",
    "        for k in range(kfolds):\n",
    "        \n",
    "            data_test_ls, y_test_ls, data_train_ls, y_train_ls = split_dataset(yb, data1, k, k_indices)   \n",
    "        \n",
    "            # Train and store rmse\n",
    "            w_ls_k, mse_ls_k = least_squares(y_train_ls, data_train_ls)\n",
    "            rmse_test = np.sqrt(2*compute_mse(y_test_ls, data_test_ls, w_ls_k))\n",
    "            \n",
    "            rmse_tr_k.append(np.sqrt(2*mse_ls_k))\n",
    "            rmse_te_k.append(rmse_test)\n",
    "            w_ls_deg.append(w_ls_k)\n",
    "            \n",
    "        \n",
    "        # Append rmse (and std over the folds) in the vectors\n",
    "        rmse_tr.append(np.mean(rmse_tr_k))\n",
    "        rmse_te.append(np.mean(rmse_te_k))\n",
    "        std_tr.append(np.std(rmse_tr_k))\n",
    "        std_te.append(np.std(rmse_te_k))\n",
    "        w_ls.append(np.mean(w_ls_deg, axis=0))\n",
    "        \n",
    "\n",
    "    return rmse_tr, rmse_te, std_tr, std_te, w_ls"
   ]
  },
  {
   "cell_type": "markdown",
   "metadata": {},
   "source": [
    "We try this first simple model both on the matrix with all the features and on the reduced matrix, and compare the results."
   ]
  },
  {
   "cell_type": "code",
   "execution_count": null,
   "metadata": {},
   "outputs": [],
   "source": [
    "degrees = range(1,5)\n",
    "\n",
    "rmse_train_tot, rmse_test_tot, std_train_tot, std_test_tot, w_tot = ls_polynomial_basis(yb, input_data, 5, degrees)\n",
    "rmse_train_red, rmse_test_red, std_train_red, std_test_red, w_red = ls_polynomial_basis(yb, data, 5, degrees)\n",
    "\n",
    "# Plot RMSE to compare the results\n",
    "fig3, axs= plt.subplots(1,2, figsize=(14,6))\n",
    "axs[0].plot(degrees, rmse_train_tot, marker=\".\", c='b', label='Train error')\n",
    "axs[0].plot(degrees, rmse_test_tot, marker=\".\", c='r', label='Test error')\n",
    "#plt.errorbar(degrees, rmse_tr, std_tr, marker=\".\", color='b', label='Train error')\n",
    "#plt.errorbar(degrees, rmse_te, std_te, marker=\".\", color='r', label='Test error')\n",
    "axs[0].set_xlabel(\"Degrees\")\n",
    "axs[0].set_ylabel(\"RMSE\")\n",
    "axs[0].set_title(\"RMSE Least Squares polynomial basis TOTAL\")\n",
    "axs[0].legend(loc=2)\n",
    "axs[0].set_xticks(degrees)\n",
    "\n",
    "axs[1].plot(degrees, rmse_train_red, marker=\".\", c='b', label='Train error')\n",
    "axs[1].plot(degrees, rmse_test_red, marker=\".\", c='r', label='Test error')\n",
    "axs[1].set_xlabel(\"Degrees\")\n",
    "axs[1].set_ylabel(\"RMSE\")\n",
    "axs[1].set_title(\"RMSE Least Squares polynomial basis REDUCED\")\n",
    "axs[1].legend(loc=2)\n",
    "axs[1].set_xticks(degrees)\n",
    "plt.savefig(\"rmse_ls\")\n"
   ]
  },
  {
   "cell_type": "code",
   "execution_count": null,
   "metadata": {},
   "outputs": [],
   "source": [
    "print('Training RMSE LS with NORMAL EQUATIONS: {err1}'.format(err1=rmse_train_red))"
   ]
  },
  {
   "cell_type": "markdown",
   "metadata": {},
   "source": [
    "In both cases we find a significant overfitting even at a low degree (3,4) and to try to reduce it we use ridge regression. Before doing that, we try to minimize the mse loss function with GD and SGD: we should get an approximation of the minimum (compare the values with the exact value give by LS!) but maybe save computational time. However we should put a lot of effort in tuning the parameters for the iterative method (max_iter, gamma) and maybe it's not worth it."
   ]
  },
  {
   "cell_type": "markdown",
   "metadata": {},
   "source": [
    "### Gradient descent and stochastic gradient descent."
   ]
  },
  {
   "cell_type": "code",
   "execution_count": null,
   "metadata": {},
   "outputs": [],
   "source": [
    "degree = 2\n",
    "max_iters = 2000\n",
    "\n",
    "# build the matrix and call the methods, after setting the parameters to ensure convergence\n",
    "data2 = build_poly(data,2)\n",
    "w_initial_red = np.zeros(data2.shape[1])\n",
    "\n",
    "w_red_GD, mse_red_GD = least_squares_GD(yb, data2, w_initial_red, max_iters, 0.001, tol=1e-4)\n",
    "w_red_SGD, mse_red_SGD = least_squares_SGD(yb, data2, w_initial_red, max_iters, 0.001, tol=1e-5)\n",
    "\n",
    "rmse_train_red_GD = np.sqrt(2*mse_red_GD)\n",
    "rmse_train_red_SGD = np.sqrt(2*mse_red_SGD)\n",
    "\n",
    "print('Training RMSE LS with NORMAL EQUATIONS: {err1}'.format(err1=rmse_train_red[1]))\n",
    "print('Training RMSE LS with GRADIENT DESCENT: {err2}'.format(err2=rmse_train_red_GD))\n",
    "print('Training RMSE LS with STOCHASTIC GRADIENT DESCENT: {err3}'.format(err3=rmse_train_red_SGD))"
   ]
  },
  {
   "cell_type": "code",
   "execution_count": null,
   "metadata": {},
   "outputs": [],
   "source": [
    "print('Distance between the weigths normal equations/GD: {dist1}'.format(dist1=np.linalg.norm(w_red[1] - w_red_GD)))\n",
    "print('Distance between the weigths normal equations/SGD: {dist2}'.format(dist2=np.linalg.norm(w_red[1] - w_red_SGD)))"
   ]
  },
  {
   "cell_type": "markdown",
   "metadata": {},
   "source": [
    "We can't see any useful improvement by using the approximate methods to solve the minimization problem: the error on the training set is higher (correct) even if the one with GD is comparable, the computational time is even higher and moreover we need to run different attempts in order to decide the suitable parameters max_iters and gamma to obtain convergence. "
   ]
  },
  {
   "cell_type": "markdown",
   "metadata": {},
   "source": [
    "### Ridge regression.\n",
    "Since we had the problem of overfitting, we try to introduce a regularization technique, based again on the mse loss function.\n",
    "We try with different lambdas and do a 5 folds cross validation with a fixed degree (=2), then we try again changing the degree because this is exactly the purpose of the regularization technique."
   ]
  },
  {
   "cell_type": "code",
   "execution_count": null,
   "metadata": {},
   "outputs": [],
   "source": [
    "def compute_accuracy(ypred, yknown):\n",
    "    \"\"\"Computes the accuracy of the prediction as n_exact_predictions/total\"\"\"\n",
    "    \n",
    "    nexact = np.sum(ypred == yknown)\n",
    "    return nexact/len(yknown)"
   ]
  },
  {
   "cell_type": "code",
   "execution_count": null,
   "metadata": {},
   "outputs": [],
   "source": [
    "def ridge_lambda(yb, data, kfolds, degree, lambdas):\n",
    "    \"\"\"Builds a polynomial basis according to the chosen degree and solves the ridge regression\n",
    "        with the normal equations for all the lambdas in lambdas, performing a k-fold cross validation \n",
    "        to compute the rmse and the weights\"\"\"\n",
    "    \n",
    "    rmse_train=[]\n",
    "    rmse_test=[]\n",
    "    seed = 3\n",
    "\n",
    "    # Build indices to split data\n",
    "    k_indices = build_k_indices(yb, kfolds, seed)\n",
    "\n",
    "    # Define lists to store the loss of training data and test data\n",
    "    rmse_tr = []\n",
    "    rmse_te = []\n",
    "    std_tr = []\n",
    "    std_te = []\n",
    "    w_ridge = []\n",
    "    accuracy = []\n",
    "\n",
    "    # Loop over the lambdas\n",
    "    for lam in lambdas:\n",
    "        rmse_tr_k=[]\n",
    "        rmse_te_k=[]\n",
    "        w_ridge_lam = []\n",
    "        accuracy_lam = []\n",
    "        \n",
    "        # Build X matrix\n",
    "        data1 = build_poly(data, degree)\n",
    "    \n",
    "        # Loop over the folds\n",
    "        for k in range(kfolds):\n",
    "        \n",
    "            data_test, y_test, data_train, y_train = split_dataset(yb, data1, k, k_indices)   \n",
    "        \n",
    "            # Train the model\n",
    "            w_k, mse_k = ridge_regression(y_train, data_train, lam)\n",
    "            rmse_test = np.sqrt(2*compute_mse(y_test, data_test, w_k))\n",
    "            \n",
    "            # Do the prediction on the test set and compute accuracy\n",
    "            ypred = predict_labels(w_k, data_test)\n",
    "            acc_k = compute_accuracy(ypred, y_test)\n",
    "            \n",
    "            # Store rmse, weights and accuracy\n",
    "            rmse_tr_k.append(np.sqrt(2*mse_k))\n",
    "            rmse_te_k.append(rmse_test)\n",
    "            w_ridge_lam.append(w_k)\n",
    "            accuracy_lam.append(acc_k)\n",
    "        \n",
    "        # Append rmse (and std over the folds) in the lists\n",
    "        rmse_tr.append(np.mean(rmse_tr_k))\n",
    "        rmse_te.append(np.mean(rmse_te_k))\n",
    "        std_tr.append(np.std(rmse_tr_k))\n",
    "        std_te.append(np.std(rmse_te_k))\n",
    "        w_ridge.append(np.mean(w_ridge_lam, axis=0))\n",
    "        accuracy.append(np.mean(accuracy_lam))\n",
    "        \n",
    "\n",
    "    return rmse_tr, rmse_te, std_tr, std_te, w_ridge, accuracy"
   ]
  },
  {
   "cell_type": "code",
   "execution_count": null,
   "metadata": {},
   "outputs": [],
   "source": [
    "def ridge_lambda_vis(lambdas, rmse_tr, rmse_te, std_train, std_test, acc, deg):\n",
    "    \"\"\"visualization of the curves of rmse_tr and rmse_te, and of the accuracy\"\"\"\n",
    "    \n",
    "    plt.figure(4, figsize=(16,5))\n",
    "    plt.subplot(1,2,1)\n",
    "    plt.semilogx(lambdas, rmse_tr, marker=\".\", color='b', label='Train error')\n",
    "    plt.semilogx(lambdas, rmse_te, marker=\".\", color='r', label='Test error')\n",
    "    #plt.errorbar(np.log10(lambdas), rmse_tr, std_train, label='Train error')\n",
    "    #plt.errorbar(np.log10(lambdas), rmse_te, std_test, label='Test error')\n",
    "    #plt.plot(lambdas, rmse_tr, marker=\".\", color='b', label='Train error')\n",
    "    #plt.plot(lambdas, rmse_te, marker=\".\", color='r', label='Test error')\n",
    "    plt.xlabel(\"Lambda\")\n",
    "    plt.ylabel(\"RMSE\")\n",
    "    plt.title(\"RMSE ridge regression with degree {ddd}\".format(ddd=deg))\n",
    "    plt.legend(loc=2)\n",
    "    plt.grid(True)\n",
    "    \n",
    "    plt.subplot(1,2,2)\n",
    "    plt.semilogx(lambdas, acc,  marker=\".\", color='b', label='Accuracy')\n",
    "    plt.xlabel(\"Lambda\")\n",
    "    plt.ylabel(\"Accuracy\")\n",
    "    plt.title(\"ACCURACY ridge regression with degree {ddd}\".format(ddd=deg))\n",
    "    plt.legend(loc=1)\n",
    "    plt.grid(True)"
   ]
  },
  {
   "cell_type": "code",
   "execution_count": null,
   "metadata": {},
   "outputs": [],
   "source": [
    "degree = 4\n",
    "kfolds = 5\n",
    "lambdas = np.logspace(-6,1,30)\n",
    "\n",
    "rmse_ridge_train, rmse_ridge_test, std_train, std_test, w_ridge, accuracy = ridge_lambda(yb, data, kfolds, degree, lambdas)\n",
    "ridge_lambda_vis(lambdas, rmse_ridge_train, rmse_ridge_test, std_train, std_test, accuracy, degree)"
   ]
  },
  {
   "cell_type": "markdown",
   "metadata": {},
   "source": [
    "### Grid search.\n",
    "To find the best couple (lambda, degree): I run it on a subset of the data (to save computational time) and then on the whole matrix, and check the difference in the rmse test.\n",
    "\n",
    "1.Define ranges for lambda and degree.\n",
    "\n",
    "2.Loop over the degrees.\n",
    "\n",
    "3.Call the function ridge_lambda(). \n",
    "\n",
    "4.Save rmse test in a matrix: rows=degree, cols=lambdas.\n",
    "\n",
    "5.Get the minimum and the associated parameters."
   ]
  },
  {
   "cell_type": "code",
   "execution_count": null,
   "metadata": {},
   "outputs": [],
   "source": [
    "# load a subset of the engineered data to save computational time\n",
    "yb_grid = yb[::25]\n",
    "data_grid = data[::25]\n",
    "ids_grid= ids[::25]"
   ]
  },
  {
   "cell_type": "code",
   "execution_count": null,
   "metadata": {},
   "outputs": [],
   "source": [
    "# Define the range for the parameters \n",
    "degree_grid = range(1,15)\n",
    "lambdas_grid = np.linspace(0,1,50)\n",
    "kfolds = 5\n",
    "\n",
    "losses = np.zeros((len(degree_grid),len(lambdas_grid)))\n",
    "accuracies = np.zeros((len(degree_grid),len(lambdas_grid)))\n",
    "\n",
    "# Perform a grid search\n",
    "for i, deg in enumerate(degree_grid):\n",
    "        \n",
    "        rmse_ridge_train, rmse_ridge_test, std_train, std_test, w_ridge, acc = ridge_lambda(yb_grid, data_grid, kfolds, deg, lambdas_grid)\n",
    "        losses[i,:] = rmse_ridge_test\n",
    "        accuracies[i,:] = acc\n",
    "        \n",
    "min_rmse_test, deg_opt_err, lam_opt_err = get_best_rmse(lambdas_grid, degree_grid, losses)  \n",
    "max_accuracy, deg_opt_acc, lam_opt_acc = get_best_accuracy(lambdas_grid, degree_grid, accuracies)\n",
    "\n",
    "print('Minimum Test RMSE (on the subset): {rmse}'.format(rmse=min_rmse_test))\n",
    "print('Optimal degree: {d}'.format(d=deg_opt_err))\n",
    "print('Optimal lambda: {l}'.format(l=lam_opt_err))\n",
    "\n",
    "print('Maximum accuracy (on the subset): {acc}'.format(acc=max_accuracy))\n",
    "print('Optimal degree: {d}'.format(d=deg_opt_acc))\n",
    "print('Optimal lambda: {l}'.format(l=lam_opt_acc))"
   ]
  },
  {
   "cell_type": "code",
   "execution_count": null,
   "metadata": {},
   "outputs": [],
   "source": [
    "def get_worst_parameters(lam, deg, losses):\n",
    "    \"\"\"Get the best (lam, deg) from the result of grid search.\"\"\"\n",
    " \n",
    "    max_row, max_col = np.unravel_index(np.argmax(losses), losses.shape)\n",
    "    return losses[max_row, max_col], deg[max_row], lam[max_col]\n",
    "\n",
    "max_rmse, deg_wor, lam_wor = get_worst_parameters(lambdas_grid, degree_grid, losses)\n",
    "print('Maximum Test RMSE (on the subset): {rmse}'.format(rmse=max_rmse))\n",
    "print('Worst degree: {d}'.format(d=deg_wor))\n",
    "print('Worst lambda: {l}'.format(l=lam_wor))"
   ]
  },
  {
   "cell_type": "markdown",
   "metadata": {},
   "source": [
    "Now we try again with another subset of data and see the differences in the rmse."
   ]
  },
  {
   "cell_type": "code",
   "execution_count": null,
   "metadata": {
    "scrolled": true
   },
   "outputs": [],
   "source": [
    "# load another subset of the engineered data to save computational time\n",
    "yb_grid1 = yb[::10]\n",
    "data_grid1 = data[::10]\n",
    "ids_grid1 = ids[::10]\n",
    "\n",
    "# Define the range for the parameters \n",
    "degree_grid = range(1,10)\n",
    "lambdas_grid = np.linspace(-1,2,40)\n",
    "kfolds = 5\n",
    "\n",
    "losses = np.zeros((len(degree_grid),len(lambdas_grid)))\n",
    "accuracies = np.zeros((len(degree_grid),len(lambdas_grid)))\n",
    "\n",
    "# Perform a grid search\n",
    "for i, deg in enumerate(degree_grid):\n",
    "        \n",
    "        rmse_ridge_train, rmse_ridge_test, std_train, std_test, w_ridge, acc = ridge_lambda(yb_grid1, data_grid1, kfolds, deg, lambdas_grid)\n",
    "        losses[i,:] = rmse_ridge_test\n",
    "        accuracies[i,:] = acc\n",
    "        \n",
    "min_rmse_test1, deg_opt1, lam_opt1 = get_best_rmse(lambdas_grid, degree_grid, losses)   \n",
    "max_accuracy1, deg_opt_acc1, lam_opt_acc1 = get_best_accuracy(lambdas_grid, degree_grid, accuracies)\n",
    "\n",
    "print('Minimum Test RMSE (on the second subset): {rmse}'.format(rmse=min_rmse_test1))\n",
    "print('Optimal degree: {d}'.format(d=deg_opt1))\n",
    "print('Optimal lambda: {l}'.format(l=lam_opt1))\n",
    "\n",
    "print('Maximum accuracy (on the second subset): {acc}'.format(acc=max_accuracy1))\n",
    "print('Optimal degree: {d}'.format(d=deg_opt_acc1))\n",
    "print('Optimal lambda: {l}'.format(l=lam_opt_acc1))"
   ]
  },
  {
   "cell_type": "markdown",
   "metadata": {},
   "source": [
    "... I tried different dimensions of the subset (to get the best parameters) and even the total dataset, since the computational time wasn't too high. In the end I decided to keep the optimal values obtained with the whole dataset and perform another cross validation (same seed and kfolds) in order to get the best weights and used them in the prediction. If I use different seeds and kfolds I get different values for the error at each try, so I decided to keep the same, in order to doublecheck the results."
   ]
  },
  {
   "cell_type": "code",
   "execution_count": null,
   "metadata": {},
   "outputs": [],
   "source": [
    "kfolds = 6\n",
    "\n",
    "rmse_train=[]\n",
    "rmse_test=[]\n",
    "seed = 2\n",
    "\n",
    "# Build indices to split data\n",
    "k_indices = build_k_indices(yb, kfolds, seed)\n",
    "\n",
    "# Define lists to store the loss of training data and test data\n",
    "rmse_opt_tr = []\n",
    "rmse_opt_te = []\n",
    "w_opt_ridge_list = []\n",
    "acc_opt = []\n",
    "\n",
    "# Build X matrix\n",
    "data1 = build_poly(data, deg_opt_acc1)\n",
    "\n",
    "# Loop over the folds\n",
    "for k in range(kfolds):\n",
    "    \n",
    "    data_test, y_test, data_train, y_train = split_dataset(yb, data1, k, k_indices)   \n",
    "        \n",
    "    # Train the model\n",
    "    w_k, mse_k = ridge_regression(y_train, data_train, lam_opt_acc1)\n",
    "    rmse_test = np.sqrt(2*compute_mse(y_test, data_test, w_k))\n",
    "    \n",
    "    # Do the prediction on the test set and compute accuracy\n",
    "    ypred = predict_labels(w_k, data_test)\n",
    "    acc_k = compute_accuracy(ypred, y_test)\n",
    "            \n",
    "    # Store rmse and weights\n",
    "    rmse_opt_tr.append(np.sqrt(2*mse_k))\n",
    "    rmse_opt_te.append(rmse_test)\n",
    "    w_opt_ridge_list.append(w_k)\n",
    "    acc_opt.append(acc_k)\n",
    "    \n",
    "# Get the best weights and the errors\n",
    "w_opt_ridge = np.mean(w_opt_ridge_list, axis=0)\n",
    "\n",
    "print('Test RMSE: {te}'.format(te=np.mean(rmse_opt_te)))\n",
    "print('Train RMSE: {tr}'.format(tr=np.mean(rmse_opt_tr)))\n",
    "print('Accuracy: {acc}'.format(acc=np.mean(acc_opt)))"
   ]
  },
  {
   "cell_type": "markdown",
   "metadata": {},
   "source": [
    "RMSE values with deg=2 and lambda=0.0011937766417144358, subset 1:25 :\n",
    "Train RMSE: 0.8014915854773715\n",
    "Test RMSE: 0.8305541106371641\n",
    "\n",
    "RMSE values with deg=3 and lambda=0.007038135554931562, subset 1:20 :\n",
    "Train RMSE: 0.793285618340946\n",
    "Test RMSE: 1.3284903246013344\n",
    "\n",
    "RMSE values with deg=2 and lambda=0.0002894266124716752, subset 1:15 :\n",
    "Train RMSE: 0.801442221422809\n",
    "Test RMSE: 0.8276588788503378\n",
    "\n",
    "RMSE values with deg=4 and lambda=0.08376776400682924, subset 1:10 :\n",
    "Train RMSE: 0.7945378819037896\n",
    "Test RMSE: 17.95365044601708\n",
    "\n",
    "RMSE values with deg=3 and lambda=0.11689518164985777, whole dataset:\n",
    "Train RMSE: 0.8013123911573933\n",
    "Test RMSE: 0.8075341744448667"
   ]
  },
  {
   "cell_type": "code",
   "execution_count": null,
   "metadata": {},
   "outputs": [],
   "source": [
    "# Let's try a submission!!! %---the last one was with the accuracy---%\n",
    "data_path_sub = \"datasets/test.csv\"\n",
    "yb_sub, input_data_sub, ids_sub = load_csv_data(data_path_sub, sub_sample=False)\n",
    "\n",
    "#preparing the matrix\n",
    "cleansubx = input_data_sub\n",
    "cleansubx[np.where(cleansubx == -999)] = 0\n",
    "means_by_columns = np.mean(cleansubx, axis=0)\n",
    "\n",
    "for i in range(30):\n",
    "    input_data_sub[:,np.where(input_data_sub[:,i]==-999)] = means_by_columns[i]\n",
    "    \n",
    "input_data_sub = standardize(input_data_sub)\n",
    "data_sub = np.delete(input_data_sub,[5,9,12,21,22,23,29],1)\n",
    "\n",
    "data_sub1 = build_poly(data_sub, deg_opt_acc1)\n",
    "print(data_sub1.shape)\n"
   ]
  },
  {
   "cell_type": "code",
   "execution_count": null,
   "metadata": {},
   "outputs": [],
   "source": [
    "print(w_opt_ridge.shape)\n",
    "ypred = predict_labels(w_opt_ridge, data_sub1)\n",
    "create_csv_submission(ids_sub,ypred,'ridgeaccuracy.csv')"
   ]
  },
  {
   "cell_type": "markdown",
   "metadata": {},
   "source": [
    "## Logistic regression\n",
    "We wrote the 4 functions (logistic, reg_logistic, logistic_newton, reg_logistic_newton) and they work."
   ]
  },
  {
   "cell_type": "code",
   "execution_count": 26,
   "metadata": {},
   "outputs": [
    {
     "name": "stdout",
     "output_type": "stream",
     "text": [
      "Current iteration=50, loss=305.06557802074195, norm_grad = 108.54222128139581\n",
      "Current iteration=100, loss=285.73219496783855, norm_grad = 65.74816385627877\n",
      "Current iteration=150, loss=276.65176147364156, norm_grad = 39.820169947583814\n",
      "Current iteration=200, loss=272.58961017651774, norm_grad = 24.110054260931946\n",
      "Current iteration=250, loss=270.87865632332864, norm_grad = 14.594313037305483\n",
      "Current iteration=300, loss=270.19176676619696, norm_grad = 8.832611014807739\n",
      "Current iteration=350, loss=269.92509143516554, norm_grad = 5.344912576274182\n",
      "Current iteration=400, loss=269.8238199088845, norm_grad = 3.234128382669131\n",
      "Current iteration=450, loss=269.78589934555276, norm_grad = 1.9568248429082793\n",
      "Current iteration=500, loss=269.7718246522505, norm_grad = 1.183949116667007\n",
      "Current iteration=550, loss=269.76662896098856, norm_grad = 0.7163178298749061\n",
      "Current iteration=600, loss=269.7647173367197, norm_grad = 0.43338450498830977\n",
      "Current iteration=650, loss=269.76401542763676, norm_grad = 0.26220314240673726\n",
      "Current iteration=700, loss=269.7637580185659, norm_grad = 0.15863555024930798\n",
      "Current iteration=750, loss=269.7636636902548, norm_grad = 0.09597585802710489\n",
      "Current iteration=800, loss=269.7636291390294, norm_grad = 0.05806611836895123\n",
      "Current iteration=850, loss=269.76361648684076, norm_grad = 0.035130405886501376\n",
      "Current iteration=900, loss=269.7636118545511, norm_grad = 0.021254127731347716\n",
      "Current iteration=950, loss=269.76361015872203, norm_grad = 0.012858883195159373\n",
      "Current iteration=1000, loss=269.7636095379359, norm_grad = 0.007779704899594512\n",
      "Current iteration=1050, loss=269.76360931069536, norm_grad = 0.004706769598169765\n",
      "Current iteration=1100, loss=269.76360922751496, norm_grad = 0.0028476245051803728\n",
      "Current iteration=1150, loss=269.7636091970677, norm_grad = 0.0017228302276355767\n",
      "Current iteration=1200, loss=269.76360918592286, norm_grad = 0.0010423227861314573\n",
      "Current iteration=1250, loss=269.76360918184355, norm_grad = 0.0006306116262938748\n",
      "Current iteration=1300, loss=269.7636091803502, norm_grad = 0.0003815238660364651\n",
      "Current iteration=1350, loss=269.7636091798037, norm_grad = 0.00023082425595518714\n",
      "Current iteration=1400, loss=269.7636091796037, norm_grad = 0.00013965007609460198\n",
      "Current iteration=1450, loss=269.76360917953036, norm_grad = 8.448914363492e-05\n",
      "Current iteration=1500, loss=269.76360917950365, norm_grad = 5.1116444621836835e-05\n",
      "Current iteration=1550, loss=269.76360917949387, norm_grad = 3.092575914839713e-05\n",
      "Current iteration=1600, loss=269.76360917949023, norm_grad = 1.871027188327231e-05\n",
      "Current iteration=1650, loss=269.7636091794889, norm_grad = 1.131982804417651e-05\n",
      "Current iteration=1700, loss=269.76360917948836, norm_grad = 6.848564667891794e-06\n",
      "Current iteration=1750, loss=269.7636091794883, norm_grad = 4.143423126473773e-06\n",
      "Current iteration=1800, loss=269.7636091794881, norm_grad = 2.5067960510761233e-06\n",
      "Current iteration=1850, loss=269.7636091794881, norm_grad = 1.5166268136723351e-06\n",
      "2.1723028556802935\n"
     ]
    }
   ],
   "source": [
    "from myhelpers import *\n",
    "\n",
    "dataprova = data[::10]\n",
    "ybprova = yb[::10]\n",
    "ybprova[np.where(ybprova==-1)] = 0\n",
    "ids = ids[::10]\n",
    "\n",
    "maxit = 10000\n",
    "lambda_= 1\n",
    "initial_w = np.zeros(data.shape[1])\n",
    "gamma = 0.01\n",
    "w, loss = reg_logistic_newton(ybprova, dataprova,lambda_, initial_w, maxit, gamma, 1e-6)\n",
    "print(np.linalg.norm(w))"
   ]
  },
  {
   "cell_type": "markdown",
   "metadata": {},
   "source": [
    "## Create submission\n",
    "Given the test data set, we need to split it according to the jet number (KEEPING THE ORIGINAL IDS), and then apply the same feature engineering techniques that we have on the train dataset (standardize, remove columns and build polynomials); make predictions according to the model and then rebuild the ypred."
   ]
  },
  {
   "cell_type": "code",
   "execution_count": null,
   "metadata": {},
   "outputs": [],
   "source": [
    "def create_submission(y1, id1, y2, id2, y3, id3, y4, id4, total_ids, name_file):\n",
    "    \"\"\"Reconstruct the prediction on the whole dataset starting from the partial ones obtained with the different models\n",
    "    the name_file should be in the string format 'name.csv' \"\"\"\n",
    "    \n",
    "    ypred = np.zeros(len(total_ids))\n",
    "    \n",
    "    ypred[id1] = y1\n",
    "    ypred[id2] = y2\n",
    "    ypred[id3] = y3\n",
    "    ypred[id4] = y4\n",
    "    \n",
    "    create_csv_submission(total_ids, ypred, name_file)    "
   ]
  },
  {
   "cell_type": "code",
   "execution_count": null,
   "metadata": {},
   "outputs": [],
   "source": [
    "#testing the function\n",
    "tot = np.array(range(12))\n",
    "id1 = np.array([2,7,5])\n",
    "id2 = np.array([1,11,10])\n",
    "id3 = np.array([3,9,0])\n",
    "id4 = np.array([4,6,8])\n",
    "\n",
    "y1 = np.array([1,1,1])\n",
    "y2 = np.array([2,2,2])\n",
    "y3 = np.array([3,3,3])\n",
    "y4 = np.array([4,4,4])\n",
    "\n",
    "create_submission(y1, id1, y2, id2, y3, id3, y4, id4, tot, 'prova.csv')"
   ]
  },
  {
   "cell_type": "code",
   "execution_count": null,
   "metadata": {},
   "outputs": [],
   "source": []
  }
 ],
 "metadata": {
  "kernelspec": {
   "display_name": "Python 3",
   "language": "python",
   "name": "python3"
  },
  "language_info": {
   "codemirror_mode": {
    "name": "ipython",
    "version": 3
   },
   "file_extension": ".py",
   "mimetype": "text/x-python",
   "name": "python",
   "nbconvert_exporter": "python",
   "pygments_lexer": "ipython3",
   "version": "3.6.5"
  }
 },
 "nbformat": 4,
 "nbformat_minor": 2
}
